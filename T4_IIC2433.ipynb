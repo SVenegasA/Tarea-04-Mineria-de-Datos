{
 "cells": [
  {
   "cell_type": "markdown",
   "metadata": {
    "id": "ysyRIyWu4SX2"
   },
   "source": [
    "Pontificia Universidad Católica de Chile <br>\n",
    "Departamento de Ciencia de la Computación <br>\n",
    "IIC2433 - Minería de Datos\n",
    "<br>\n",
    "\n",
    "<center>\n",
    "    <h2> Tarea 4 </h2>\n",
    "    <h1> Clustering, Asociaciones y Redes Bayesianas </h1>\n",
    "    <p>\n",
    "        Profesor Marcelo Mendoza<br>\n",
    "        Primer Semestre 2025<br>    \n",
    "        Fecha de entrega: 23 de mayo\n",
    "    </p>\n",
    "    <br>\n",
    "</center>\n",
    "\n",
    "<br>\n",
    "\n",
    "---"
   ]
  },
  {
   "cell_type": "markdown",
   "metadata": {
    "id": "N1gzcm4-4gQI"
   },
   "source": [
    "## Indicaciones\n",
    "\n",
    "Deberás entregar **SOLO** el archivo .ipynb en el buzón respectivo en canvas.\n",
    "\n",
    "**IMPORTANTE**:\n",
    "- Se te dará puntaje tanto por código como por la manera en la que respondas las preguntas planteadas. Es decir, si tienes un código perfecto pero este no es explicado o no se responden preguntas asociadas a este, no se tendrá el puntaje completo.\n",
    "- El notebook debe tener todas las celdas de código ejecutadas. Cualquier notebook que no las tenga no podrá ser corregido.\n",
    "- El carácter de esta tarea es **INDIVIDUAL**. Cualquier instancia de copia resultará en un 1,1 como nota de curso.\n",
    "\n",
    "---"
   ]
  },
  {
   "cell_type": "markdown",
   "metadata": {
    "id": "-PLcmcQrJDAa"
   },
   "source": [
    "## Librerías"
   ]
  },
  {
   "cell_type": "markdown",
   "metadata": {
    "id": "q7VzbhLlJDAa"
   },
   "source": [
    "A continuación se encuentran las librerías necesarias para elaborar la tarea. Recuerda ejecutar la celda antes de comenzar."
   ]
  },
  {
   "cell_type": "code",
   "execution_count": 1,
   "metadata": {
    "id": "B-BJFn0VJDAa"
   },
   "outputs": [],
   "source": [
    "import pandas as pd\n",
    "import numpy as np\n",
    "import matplotlib.pyplot as plt\n",
    "import seaborn as sns\n",
    "\n",
    "from sklearn.preprocessing import StandardScaler\n",
    "from sklearn.cluster import KMeans, DBSCAN\n",
    "from sklearn.mixture import GaussianMixture\n",
    "from sklearn.neighbors import NearestNeighbors\n",
    "from sklearn.decomposition import PCA\n",
    "from sklearn.manifold import TSNE\n",
    "from sklearn.metrics import silhouette_score\n",
    "import umap.umap_ as UMAP\n",
    "\n",
    "from pgmpy.inference import VariableElimination\n",
    "from pgmpy.models import DiscreteBayesianNetwork\n",
    "from pgmpy.estimators import BayesianEstimator\n",
    "from pgmpy.estimators import HillClimbSearch, BDs\n",
    "\n",
    "from mlxtend.frequent_patterns import apriori, association_rules\n",
    "from mlxtend.preprocessing import TransactionEncoder"
   ]
  },
  {
   "cell_type": "markdown",
   "metadata": {
    "id": "OLb_ZLGKJDAc"
   },
   "source": [
    "## Contexto"
   ]
  },
  {
   "cell_type": "markdown",
   "metadata": {
    "id": "75wbEIs9JDAc"
   },
   "source": [
    "Un empresario multimillonario acaba de comprar un club de fútbol de las 5 mejores ligas del mundo y te ha contactado a ti como experto en Mineria de Datos para que lo ayudes a saber como llevar a su nuevo equipo a los primeros lugares. Para conseguir lo anterior te ha entregado datos de la temporada 2015-2016 de la Bundelisga (Alemania), La Liga (España), Ligue 1 (Francia), Premier League (Inglaterra) y Serie A (Italia) con las estadísticas de los equipos que participaron en esa temporada en sus respectivas ligas para poder encontrar estilos de juegos que le puedan servir para replicar en su nuevo equipo."
   ]
  },
  {
   "cell_type": "markdown",
   "metadata": {
    "id": "y2jG2kYAa3Lz"
   },
   "source": [
    "## 1. Carga y Preprocesamiento de Datos (5 Pts.)"
   ]
  },
  {
   "cell_type": "markdown",
   "metadata": {
    "id": "_f7nAquobBQu"
   },
   "source": [
    "### 1.1 Cargar Datos"
   ]
  },
  {
   "cell_type": "markdown",
   "metadata": {
    "id": "Sp7tjDwCJDAf"
   },
   "source": [
    "Cargue el dataset `teams.csv`. Indique la cantidad de filas y columnas del conjunto de datos. ¿Existen datos nulos? De ser así, mencione el número de casos por variable y luego elimine todas filas que tengan a lo menos un valor nulo."
   ]
  },
  {
   "cell_type": "code",
   "execution_count": 2,
   "metadata": {
    "colab": {
     "base_uri": "https://localhost:8080/",
     "height": 343
    },
    "id": "rEM-U4laRXjk",
    "outputId": "76d700a2-50dd-4e97-ef66-66210adbbf26"
   },
   "outputs": [],
   "source": [
    "df_teams = pd.read_csv(\"teams.csv\")\n",
    "df_teams = df_teams.drop([\"Unnamed: 0\"], axis = 1)"
   ]
  },
  {
   "cell_type": "code",
   "execution_count": 3,
   "metadata": {},
   "outputs": [
    {
     "name": "stdout",
     "output_type": "stream",
     "text": [
      "<class 'pandas.core.frame.DataFrame'>\n",
      "RangeIndex: 78 entries, 0 to 77\n",
      "Data columns (total 27 columns):\n",
      " #   Column                       Non-Null Count  Dtype  \n",
      "---  ------                       --------------  -----  \n",
      " 0   team                         78 non-null     object \n",
      " 1   total_shots                  78 non-null     int64  \n",
      " 2   onTarget                     78 non-null     int64  \n",
      " 3   goals                        78 non-null     int64  \n",
      " 4   xG_total                     78 non-null     float64\n",
      " 5   Shot_to_goal_ratio           78 non-null     float64\n",
      " 6   Shot_onTarget_to_goal_ratio  78 non-null     float64\n",
      " 7   xG/shot                      78 non-null     float64\n",
      " 8   recoveries                   78 non-null     int64  \n",
      " 9   recoveries_f3                78 non-null     int64  \n",
      " 10  duels_won                    78 non-null     int64  \n",
      " 11  fouls_committed              78 non-null     int64  \n",
      " 12  shots_against                78 non-null     int64  \n",
      " 13  shots_onTarget_against       78 non-null     int64  \n",
      " 14  xGA                          78 non-null     float64\n",
      " 15  goals_against                78 non-null     int64  \n",
      " 16  clean_sheets                 78 non-null     int64  \n",
      " 17  ppda                         78 non-null     float64\n",
      " 18  total_passes                 78 non-null     int64  \n",
      " 19  f3_passes                    78 non-null     int64  \n",
      " 20  short_passes                 78 non-null     int64  \n",
      " 21  long_passes                  78 non-null     int64  \n",
      " 22  average_pass_length          78 non-null     float64\n",
      " 23  crosses                      78 non-null     int64  \n",
      " 24  ranking                      78 non-null     int64  \n",
      " 25  points_per_match             78 non-null     float64\n",
      " 26  groups                       78 non-null     int64  \n",
      "dtypes: float64(8), int64(18), object(1)\n",
      "memory usage: 16.6+ KB\n"
     ]
    }
   ],
   "source": [
    "df_teams.info()"
   ]
  },
  {
   "cell_type": "markdown",
   "metadata": {},
   "source": [
    "El dataset contiene 77 filas (Sin contar el header) y 27 columnas "
   ]
  },
  {
   "cell_type": "markdown",
   "metadata": {},
   "source": [
    "Además aparentemente (Al menos según pandas y posterior indagación dentro del archivo .csv) no existen datos nulos"
   ]
  },
  {
   "cell_type": "markdown",
   "metadata": {
    "id": "b7i4XF4bbEA6"
   },
   "source": [
    "### 1.2 Descripción del dataset (1 Pts.)"
   ]
  },
  {
   "cell_type": "markdown",
   "metadata": {
    "id": "CHXQMafPJDAf"
   },
   "source": [
    "Describa brevemente cuantas columnas tiene el dataset y defina que significa cada columna del dataset. Para lo anterior te puedes apoyar de las siguientes páginas webs:\n",
    "\n",
    "- [Definición Métricas Opta](https://theanalyst.com/2024/07/opta-football-stats-definitions)\n",
    "- [Explicación xG Opta](https://theanalyst.com/2023/08/what-is-expected-goals-xg)\n",
    "- [Definición Métricas StatsPerform](https://www.statsperform.com/opta-event-definitions/)\n",
    "- [Glosario WhoScored](https://www.whoscored.com/glossary)"
   ]
  },
  {
   "cell_type": "code",
   "execution_count": 7,
   "metadata": {},
   "outputs": [
    {
     "data": {
      "text/html": [
       "<div>\n",
       "<style scoped>\n",
       "    .dataframe tbody tr th:only-of-type {\n",
       "        vertical-align: middle;\n",
       "    }\n",
       "\n",
       "    .dataframe tbody tr th {\n",
       "        vertical-align: top;\n",
       "    }\n",
       "\n",
       "    .dataframe thead th {\n",
       "        text-align: right;\n",
       "    }\n",
       "</style>\n",
       "<table border=\"1\" class=\"dataframe\">\n",
       "  <thead>\n",
       "    <tr style=\"text-align: right;\">\n",
       "      <th></th>\n",
       "      <th>team</th>\n",
       "      <th>total_shots</th>\n",
       "      <th>onTarget</th>\n",
       "      <th>goals</th>\n",
       "      <th>xG_total</th>\n",
       "      <th>Shot_to_goal_ratio</th>\n",
       "      <th>Shot_onTarget_to_goal_ratio</th>\n",
       "      <th>xG/shot</th>\n",
       "      <th>recoveries</th>\n",
       "      <th>recoveries_f3</th>\n",
       "      <th>...</th>\n",
       "      <th>ppda</th>\n",
       "      <th>total_passes</th>\n",
       "      <th>f3_passes</th>\n",
       "      <th>short_passes</th>\n",
       "      <th>long_passes</th>\n",
       "      <th>average_pass_length</th>\n",
       "      <th>crosses</th>\n",
       "      <th>ranking</th>\n",
       "      <th>points_per_match</th>\n",
       "      <th>groups</th>\n",
       "    </tr>\n",
       "  </thead>\n",
       "  <tbody>\n",
       "    <tr>\n",
       "      <th>0</th>\n",
       "      <td>Real Madrid</td>\n",
       "      <td>717</td>\n",
       "      <td>287</td>\n",
       "      <td>108</td>\n",
       "      <td>80.794913</td>\n",
       "      <td>15.062762</td>\n",
       "      <td>37.630662</td>\n",
       "      <td>0.112685</td>\n",
       "      <td>1715</td>\n",
       "      <td>448</td>\n",
       "      <td>...</td>\n",
       "      <td>12.785114</td>\n",
       "      <td>23279</td>\n",
       "      <td>2225</td>\n",
       "      <td>15556</td>\n",
       "      <td>2388</td>\n",
       "      <td>18.465597</td>\n",
       "      <td>683</td>\n",
       "      <td>2</td>\n",
       "      <td>2.37</td>\n",
       "      <td>1</td>\n",
       "    </tr>\n",
       "    <tr>\n",
       "      <th>1</th>\n",
       "      <td>Napoli</td>\n",
       "      <td>664</td>\n",
       "      <td>244</td>\n",
       "      <td>78</td>\n",
       "      <td>64.630668</td>\n",
       "      <td>11.746988</td>\n",
       "      <td>31.967213</td>\n",
       "      <td>0.097335</td>\n",
       "      <td>1847</td>\n",
       "      <td>452</td>\n",
       "      <td>...</td>\n",
       "      <td>13.472731</td>\n",
       "      <td>26906</td>\n",
       "      <td>2671</td>\n",
       "      <td>18602</td>\n",
       "      <td>2099</td>\n",
       "      <td>16.582880</td>\n",
       "      <td>519</td>\n",
       "      <td>2</td>\n",
       "      <td>2.16</td>\n",
       "      <td>1</td>\n",
       "    </tr>\n",
       "    <tr>\n",
       "      <th>2</th>\n",
       "      <td>Tottenham Hotspur</td>\n",
       "      <td>656</td>\n",
       "      <td>249</td>\n",
       "      <td>68</td>\n",
       "      <td>62.356203</td>\n",
       "      <td>10.365854</td>\n",
       "      <td>27.309237</td>\n",
       "      <td>0.095055</td>\n",
       "      <td>1976</td>\n",
       "      <td>504</td>\n",
       "      <td>...</td>\n",
       "      <td>10.571661</td>\n",
       "      <td>20624</td>\n",
       "      <td>2527</td>\n",
       "      <td>11906</td>\n",
       "      <td>2577</td>\n",
       "      <td>20.121036</td>\n",
       "      <td>431</td>\n",
       "      <td>3</td>\n",
       "      <td>1.84</td>\n",
       "      <td>1</td>\n",
       "    </tr>\n",
       "    <tr>\n",
       "      <th>3</th>\n",
       "      <td>Liverpool</td>\n",
       "      <td>635</td>\n",
       "      <td>203</td>\n",
       "      <td>62</td>\n",
       "      <td>58.373657</td>\n",
       "      <td>9.763780</td>\n",
       "      <td>30.541872</td>\n",
       "      <td>0.091927</td>\n",
       "      <td>1999</td>\n",
       "      <td>475</td>\n",
       "      <td>...</td>\n",
       "      <td>10.999069</td>\n",
       "      <td>21464</td>\n",
       "      <td>2427</td>\n",
       "      <td>12984</td>\n",
       "      <td>2298</td>\n",
       "      <td>18.959322</td>\n",
       "      <td>511</td>\n",
       "      <td>8</td>\n",
       "      <td>1.58</td>\n",
       "      <td>2</td>\n",
       "    </tr>\n",
       "    <tr>\n",
       "      <th>4</th>\n",
       "      <td>Bayern Munich</td>\n",
       "      <td>622</td>\n",
       "      <td>258</td>\n",
       "      <td>78</td>\n",
       "      <td>73.353521</td>\n",
       "      <td>12.540193</td>\n",
       "      <td>30.232558</td>\n",
       "      <td>0.117932</td>\n",
       "      <td>1604</td>\n",
       "      <td>429</td>\n",
       "      <td>...</td>\n",
       "      <td>11.116863</td>\n",
       "      <td>25862</td>\n",
       "      <td>2633</td>\n",
       "      <td>18128</td>\n",
       "      <td>2090</td>\n",
       "      <td>18.200877</td>\n",
       "      <td>561</td>\n",
       "      <td>1</td>\n",
       "      <td>2.59</td>\n",
       "      <td>1</td>\n",
       "    </tr>\n",
       "    <tr>\n",
       "      <th>...</th>\n",
       "      <td>...</td>\n",
       "      <td>...</td>\n",
       "      <td>...</td>\n",
       "      <td>...</td>\n",
       "      <td>...</td>\n",
       "      <td>...</td>\n",
       "      <td>...</td>\n",
       "      <td>...</td>\n",
       "      <td>...</td>\n",
       "      <td>...</td>\n",
       "      <td>...</td>\n",
       "      <td>...</td>\n",
       "      <td>...</td>\n",
       "      <td>...</td>\n",
       "      <td>...</td>\n",
       "      <td>...</td>\n",
       "      <td>...</td>\n",
       "      <td>...</td>\n",
       "      <td>...</td>\n",
       "      <td>...</td>\n",
       "      <td>...</td>\n",
       "    </tr>\n",
       "    <tr>\n",
       "      <th>73</th>\n",
       "      <td>Hamburger SV</td>\n",
       "      <td>375</td>\n",
       "      <td>130</td>\n",
       "      <td>37</td>\n",
       "      <td>37.730126</td>\n",
       "      <td>9.866667</td>\n",
       "      <td>28.461538</td>\n",
       "      <td>0.100614</td>\n",
       "      <td>1690</td>\n",
       "      <td>314</td>\n",
       "      <td>...</td>\n",
       "      <td>14.357576</td>\n",
       "      <td>15534</td>\n",
       "      <td>1992</td>\n",
       "      <td>7753</td>\n",
       "      <td>2492</td>\n",
       "      <td>20.968141</td>\n",
       "      <td>316</td>\n",
       "      <td>10</td>\n",
       "      <td>1.21</td>\n",
       "      <td>2</td>\n",
       "    </tr>\n",
       "    <tr>\n",
       "      <th>74</th>\n",
       "      <td>Eintracht Frankfurt</td>\n",
       "      <td>364</td>\n",
       "      <td>128</td>\n",
       "      <td>32</td>\n",
       "      <td>33.644640</td>\n",
       "      <td>8.791209</td>\n",
       "      <td>25.000000</td>\n",
       "      <td>0.092430</td>\n",
       "      <td>1679</td>\n",
       "      <td>357</td>\n",
       "      <td>...</td>\n",
       "      <td>14.506135</td>\n",
       "      <td>15431</td>\n",
       "      <td>1915</td>\n",
       "      <td>8060</td>\n",
       "      <td>2410</td>\n",
       "      <td>20.244928</td>\n",
       "      <td>425</td>\n",
       "      <td>16</td>\n",
       "      <td>1.06</td>\n",
       "      <td>4</td>\n",
       "    </tr>\n",
       "    <tr>\n",
       "      <th>75</th>\n",
       "      <td>Darmstadt 98</td>\n",
       "      <td>347</td>\n",
       "      <td>114</td>\n",
       "      <td>38</td>\n",
       "      <td>36.581159</td>\n",
       "      <td>10.951009</td>\n",
       "      <td>33.333333</td>\n",
       "      <td>0.105421</td>\n",
       "      <td>1489</td>\n",
       "      <td>383</td>\n",
       "      <td>...</td>\n",
       "      <td>14.103314</td>\n",
       "      <td>9549</td>\n",
       "      <td>2207</td>\n",
       "      <td>2770</td>\n",
       "      <td>2634</td>\n",
       "      <td>24.371304</td>\n",
       "      <td>338</td>\n",
       "      <td>14</td>\n",
       "      <td>1.12</td>\n",
       "      <td>3</td>\n",
       "    </tr>\n",
       "    <tr>\n",
       "      <th>76</th>\n",
       "      <td>Villarreal</td>\n",
       "      <td>347</td>\n",
       "      <td>129</td>\n",
       "      <td>42</td>\n",
       "      <td>37.071917</td>\n",
       "      <td>12.103746</td>\n",
       "      <td>32.558140</td>\n",
       "      <td>0.106835</td>\n",
       "      <td>1726</td>\n",
       "      <td>333</td>\n",
       "      <td>...</td>\n",
       "      <td>14.630580</td>\n",
       "      <td>17546</td>\n",
       "      <td>2038</td>\n",
       "      <td>9808</td>\n",
       "      <td>2264</td>\n",
       "      <td>19.881607</td>\n",
       "      <td>342</td>\n",
       "      <td>4</td>\n",
       "      <td>1.68</td>\n",
       "      <td>1</td>\n",
       "    </tr>\n",
       "    <tr>\n",
       "      <th>77</th>\n",
       "      <td>Hertha Berlin</td>\n",
       "      <td>330</td>\n",
       "      <td>124</td>\n",
       "      <td>41</td>\n",
       "      <td>36.324097</td>\n",
       "      <td>12.424242</td>\n",
       "      <td>33.064516</td>\n",
       "      <td>0.110073</td>\n",
       "      <td>1479</td>\n",
       "      <td>296</td>\n",
       "      <td>...</td>\n",
       "      <td>15.903728</td>\n",
       "      <td>16959</td>\n",
       "      <td>1695</td>\n",
       "      <td>9541</td>\n",
       "      <td>2218</td>\n",
       "      <td>20.710607</td>\n",
       "      <td>360</td>\n",
       "      <td>7</td>\n",
       "      <td>1.47</td>\n",
       "      <td>2</td>\n",
       "    </tr>\n",
       "  </tbody>\n",
       "</table>\n",
       "<p>78 rows × 27 columns</p>\n",
       "</div>"
      ],
      "text/plain": [
       "                   team  total_shots  onTarget  goals   xG_total  \\\n",
       "0           Real Madrid          717       287    108  80.794913   \n",
       "1                Napoli          664       244     78  64.630668   \n",
       "2     Tottenham Hotspur          656       249     68  62.356203   \n",
       "3             Liverpool          635       203     62  58.373657   \n",
       "4         Bayern Munich          622       258     78  73.353521   \n",
       "..                  ...          ...       ...    ...        ...   \n",
       "73         Hamburger SV          375       130     37  37.730126   \n",
       "74  Eintracht Frankfurt          364       128     32  33.644640   \n",
       "75         Darmstadt 98          347       114     38  36.581159   \n",
       "76           Villarreal          347       129     42  37.071917   \n",
       "77        Hertha Berlin          330       124     41  36.324097   \n",
       "\n",
       "    Shot_to_goal_ratio  Shot_onTarget_to_goal_ratio   xG/shot  recoveries  \\\n",
       "0            15.062762                    37.630662  0.112685        1715   \n",
       "1            11.746988                    31.967213  0.097335        1847   \n",
       "2            10.365854                    27.309237  0.095055        1976   \n",
       "3             9.763780                    30.541872  0.091927        1999   \n",
       "4            12.540193                    30.232558  0.117932        1604   \n",
       "..                 ...                          ...       ...         ...   \n",
       "73            9.866667                    28.461538  0.100614        1690   \n",
       "74            8.791209                    25.000000  0.092430        1679   \n",
       "75           10.951009                    33.333333  0.105421        1489   \n",
       "76           12.103746                    32.558140  0.106835        1726   \n",
       "77           12.424242                    33.064516  0.110073        1479   \n",
       "\n",
       "    recoveries_f3  ...       ppda  total_passes  f3_passes  short_passes  \\\n",
       "0             448  ...  12.785114         23279       2225         15556   \n",
       "1             452  ...  13.472731         26906       2671         18602   \n",
       "2             504  ...  10.571661         20624       2527         11906   \n",
       "3             475  ...  10.999069         21464       2427         12984   \n",
       "4             429  ...  11.116863         25862       2633         18128   \n",
       "..            ...  ...        ...           ...        ...           ...   \n",
       "73            314  ...  14.357576         15534       1992          7753   \n",
       "74            357  ...  14.506135         15431       1915          8060   \n",
       "75            383  ...  14.103314          9549       2207          2770   \n",
       "76            333  ...  14.630580         17546       2038          9808   \n",
       "77            296  ...  15.903728         16959       1695          9541   \n",
       "\n",
       "    long_passes  average_pass_length  crosses  ranking  points_per_match  \\\n",
       "0          2388            18.465597      683        2              2.37   \n",
       "1          2099            16.582880      519        2              2.16   \n",
       "2          2577            20.121036      431        3              1.84   \n",
       "3          2298            18.959322      511        8              1.58   \n",
       "4          2090            18.200877      561        1              2.59   \n",
       "..          ...                  ...      ...      ...               ...   \n",
       "73         2492            20.968141      316       10              1.21   \n",
       "74         2410            20.244928      425       16              1.06   \n",
       "75         2634            24.371304      338       14              1.12   \n",
       "76         2264            19.881607      342        4              1.68   \n",
       "77         2218            20.710607      360        7              1.47   \n",
       "\n",
       "    groups  \n",
       "0        1  \n",
       "1        1  \n",
       "2        1  \n",
       "3        2  \n",
       "4        1  \n",
       "..     ...  \n",
       "73       2  \n",
       "74       4  \n",
       "75       3  \n",
       "76       1  \n",
       "77       2  \n",
       "\n",
       "[78 rows x 27 columns]"
      ]
     },
     "execution_count": 7,
     "metadata": {},
     "output_type": "execute_result"
    }
   ],
   "source": [
    "df_teams"
   ]
  },
  {
   "cell_type": "code",
   "execution_count": 5,
   "metadata": {
    "id": "ueA3JhIybaMJ"
   },
   "outputs": [
    {
     "data": {
      "text/plain": [
       "78"
      ]
     },
     "execution_count": 5,
     "metadata": {},
     "output_type": "execute_result"
    }
   ],
   "source": [
    "len(df_teams[\"team\"].unique())"
   ]
  },
  {
   "cell_type": "markdown",
   "metadata": {},
   "source": [
    "Las columnas del dataset y lo que representa cada una es:\n",
    "1) team: Representa el equipo, veo que este tiene un valor unico por columna\n",
    "2) total_shots: Representa el número de veces que un equipo ha hecho un tiro\n",
    "3) onTarget: según la definición de métricas Opta, esta columna representaría el número de veces que se ha pateado la pelota hacia portería, incluyendo las veces que se ha hecho un gol (o score) como aquellas en las que el arquero lo ha evitado\n",
    "4) goals: Número de veces que un equipo ha hecho un gol\n",
    "5) xG_total: si xG representa la probabilidad de que un tiro resulte en gol, xG_total representa la suma de todos los xG de los tiros de un equipo\n",
    "6) Shot_to_goal_ratio: Sería la división entre el número de goles partido por el número total_shots de un equipo\n",
    "7) Shot_onTarget_to_goal_ratio: Sería la división entre el número de goles partido por el número onTarget de un equipo\n",
    "8) xG/shot: Corresponde a la fracción de la probabilidad de que un tiro resulte en gol partido por el número de tiros\n",
    "9) recoveries: Número de veces en la que un equipo ha recuperado la pelota en situaciones en las que ninguno de los equipos la tiene o cuando la pelota ha sido jugada directamente hacia el por un equipo rival, así asegurando la posesión de la pelota para el equipo\n",
    "10) recoveries_f3: Es lo mismo que recoveries pero hecha en la zona F3 del campo de futbol, siendo F3 la zona defensiva del equipo rival (el tercio final del campo contrario)\n",
    "11) duels_won: Esta métrica aplicada a un equipo representaría el número de duelos individuales entre jugadores del equipo contra jugadores de equipos rivales que los jugadores del equipo han ganado. Siendo un duelo una disputa directa por el balón\n",
    "12) fouls_committed: Número de veces que jugadores del equipo han infringido reglas del juego.\n",
    "13) shots_against: Número de intentos de gol que el equipo rival ha realizado\n",
    "14) shots_onTarget_against: Lo mismo que shots_against solo que estos se refieren a tiros que iban dirigidos directos a portería y cuya línea de defensa es solo el arquero\n",
    "15) xGA: Es lo mismo que xG pero tomando solo los tiros hechos por el equipo rival\n",
    "16) goals_against: Es el número de goles que les han hecho al equipo3\n",
    "17)          "
   ]
  },
  {
   "cell_type": "markdown",
   "metadata": {
    "id": "cbY0lgdNbeVL"
   },
   "source": [
    "### 1.3 Normalización (1 Pts.)"
   ]
  },
  {
   "cell_type": "markdown",
   "metadata": {
    "id": "egO3hCTKJDAh"
   },
   "source": [
    "Realice el proceso de normalización sobre la matriz de variables explicativas utilizando el método StandardScaler. A partir de aquí, tiene que usar esta matriz para los experimentos. Para lo anterior, elimine las columnas `team`, `ranking`, `points_per_match` y `groups`, pero mantenga una copia del dataframe original, ya que lo necesitaras en secciones posteriores."
   ]
  },
  {
   "cell_type": "code",
   "execution_count": null,
   "metadata": {},
   "outputs": [],
   "source": []
  },
  {
   "cell_type": "markdown",
   "metadata": {
    "id": "18ngyHQmJDAh"
   },
   "source": [
    "### 1.4 Matriz de correlación (2 Pts.)"
   ]
  },
  {
   "cell_type": "markdown",
   "metadata": {
    "id": "sguWEWCQJDAh"
   },
   "source": [
    "A partir del dataframe normalizado en la sección anterior construya la matriz de correlación. ¿Que variables tienen alta correlación ($> 0.8$)?"
   ]
  },
  {
   "cell_type": "code",
   "execution_count": null,
   "metadata": {},
   "outputs": [],
   "source": []
  },
  {
   "cell_type": "markdown",
   "metadata": {
    "id": "jzGEYnX7cc2C"
   },
   "source": [
    "## 2. Clustering (15 Pts.)"
   ]
  },
  {
   "cell_type": "markdown",
   "metadata": {
    "id": "ZUyyyrPUcuK4"
   },
   "source": [
    "### 2.1 K-Means (5 Pts.)"
   ]
  },
  {
   "cell_type": "markdown",
   "metadata": {
    "id": "g-slUxsXJDAi"
   },
   "source": [
    "#### 2.1.1 Explicación teórica (2 Pts.)"
   ]
  },
  {
   "cell_type": "markdown",
   "metadata": {
    "id": "V-5u9uTOJDAj"
   },
   "source": [
    "Investigue sobre `K-means` y entregue una explicación de como funciona. `No es necesario una explicación matemática`. Se espera que tu explicación contenga la respuesta a las siguientes preguntas:\n",
    "1. ¿Qué tipo de algoritmo es?\n",
    "2. ¿Para qué sirve?\n",
    "3. ¿Cómo funciona?\n",
    "4. ¿Qué es un centroide?\n",
    "5. ¿Que es la inercia en este contexto?\n",
    "\n",
    "**❗IMPORTANTE❗** No utilices ChatGPT u otro modelo de lenguaje para responder esta pregunta. Será evaluado que cites al menos 1 recurso bibliográfico que hayas utilizado. Cualquier información que no tenga una referencia clara no se le dará puntaje."
   ]
  },
  {
   "cell_type": "markdown",
   "metadata": {
    "id": "zORguryYJDAj"
   },
   "source": [
    "#### 2.1.2 Número de clusters (2 Pts.)"
   ]
  },
  {
   "cell_type": "markdown",
   "metadata": {
    "id": "4y-CueoZJDAj"
   },
   "source": [
    "La libreria [scikit-learn](https://scikit-learn.org/stable/modules/generated/sklearn.cluster.KMeans.html) tiene implementado este algoritmo. Grafique los valores de *inertia* y silhoutte score para un rango de 2 a 10 clusters. Determine el número óptimo de clusters."
   ]
  },
  {
   "cell_type": "code",
   "execution_count": null,
   "metadata": {},
   "outputs": [],
   "source": []
  },
  {
   "cell_type": "markdown",
   "metadata": {
    "id": "-Hd788V6JDAj"
   },
   "source": [
    "#### 2.1.3 Ejecutar K-Means (1 Pts.)"
   ]
  },
  {
   "cell_type": "markdown",
   "metadata": {
    "id": "mu9OQc2aJDAk"
   },
   "source": [
    "**Ejecute K-Means con un número de clusters igual a 4.** Una vez obtenidos los clusters imprima las posiciones en que terminaron esos equipos:\n",
    "\n",
    "- ¿Existe alguna relación entre los clusters obtenidos y la posición que obtuvieron los equipos de ese cluster respectivo?\n",
    "- Describa cada cluster según la posición de los clubes dentro de los clusters y otras estadísticas presentes en el dataset.\n",
    "\n",
    "Finalmente, calcule *silhouette score* con los valores escogidos."
   ]
  },
  {
   "cell_type": "code",
   "execution_count": null,
   "metadata": {
    "colab": {
     "base_uri": "https://localhost:8080/"
    },
    "id": "Gs-K3tT0JDAl",
    "outputId": "373a888b-6c8c-4ce6-bdd6-facb1c664153"
   },
   "outputs": [],
   "source": []
  },
  {
   "cell_type": "markdown",
   "metadata": {
    "id": "VS5SlMWgc9Un"
   },
   "source": [
    "### 2.2 DBSCAN (5 Pts.)"
   ]
  },
  {
   "cell_type": "markdown",
   "metadata": {
    "id": "rDbCSBZRJDAl"
   },
   "source": [
    "Usando *k-dist plot* para MinPts=3, encuentre que rango de EPS deberiamos evaluar. Una vez obtenidos los clusters realice el mismo análisis de la sección anterior:\n",
    "\n",
    "- ¿Existe alguna relación entre los clusters obtenidos y la posición que obtuvieron los equipos de ese cluster respectivo?\n",
    "- Describa cada cluster según la posición de los clubes dentro de los clusters y otras estadísticas presentes en el dataset.\n",
    "\n",
    "Finalmente, calcule *silhouette score* con los valores escogidos"
   ]
  },
  {
   "cell_type": "code",
   "execution_count": null,
   "metadata": {},
   "outputs": [],
   "source": []
  },
  {
   "cell_type": "markdown",
   "metadata": {
    "id": "GMfYhvRrdEae"
   },
   "source": [
    "### 2.3 GMM (5 Pts.)"
   ]
  },
  {
   "cell_type": "markdown",
   "metadata": {
    "id": "KgW9Eqc7JDAo"
   },
   "source": [
    "#### 2.3.1 Explicación AIC (2 Pts.)"
   ]
  },
  {
   "cell_type": "markdown",
   "metadata": {
    "id": "zeBM39pcJDAo"
   },
   "source": [
    "Investigue sobre las métricas `AIC`, y conteste las siguientes preguntas:\n",
    "\n",
    "- ¿Qué es la métrica `AIC`?\n",
    "- ¿Qué penaliza esta métrica?\n",
    "- ¿Qué casos de usos tiene esta métrica?\n",
    "- Para el caso de GMM, ¿se busca maximizar o minimizar esta métrica? ¿Por qué?\n",
    "\n",
    "**❗IMPORTANTE❗** No utilices ChatGPT u otro modelo de lenguaje para responder esta pregunta. Será evaluado que cites al menos 1 recurso bibliográfico que hayas utilizado. Cualquier información que no tenga una referencia clara no se le dará puntaje."
   ]
  },
  {
   "cell_type": "markdown",
   "metadata": {
    "id": "IMW9mlEhJDAo"
   },
   "source": [
    "#### 2.3.2 Obtener AIC (1 Pts.)"
   ]
  },
  {
   "cell_type": "markdown",
   "metadata": {
    "id": "pLkPCEUtJDAo"
   },
   "source": [
    "Determine el número óptimo de componentes para el modelo Gaussian Mixture Model utilizando la métrica AIC. Considere un rango de número de componentes entre 1 y 40.\n",
    "\n",
    "Luego, grafique la curva entre número de componentes y la métrica AIC"
   ]
  },
  {
   "cell_type": "code",
   "execution_count": null,
   "metadata": {},
   "outputs": [],
   "source": []
  },
  {
   "cell_type": "markdown",
   "metadata": {
    "id": "l5mVn8FCJDAp"
   },
   "source": [
    "#### 2.3.3 Implementación GMM (2 Pts.)"
   ]
  },
  {
   "cell_type": "markdown",
   "metadata": {
    "id": "ZseyD6C6JDAp"
   },
   "source": [
    "Escoja el número de componentes que minimiza AIC para entrenar GMM. Una vez obtenidos los clusters realice el mismo análisis de la sección anterior:\n",
    "\n",
    "- ¿Existe alguna relación entre los clusters obtenidos y la posición que obtuvieron los equipos de ese cluster respectivo?\n",
    "- Describa cada cluster según la posición de los clubes dentro de los clusters y otras estadísticas presentes en el dataset.\n",
    "\n",
    "Finalmente, calcule *silhouette score* con los valores escogidos."
   ]
  },
  {
   "cell_type": "code",
   "execution_count": null,
   "metadata": {},
   "outputs": [],
   "source": []
  },
  {
   "cell_type": "markdown",
   "metadata": {
    "id": "-1wtuLDFdRBQ"
   },
   "source": [
    "## 3. Visualización (10 Pts.)"
   ]
  },
  {
   "cell_type": "markdown",
   "metadata": {
    "id": "OfPKrJ5rJDAq"
   },
   "source": [
    "En esta sección se espera que grafiques los datos coloreados según su cluster utilizando PCA, t-SNE y UMAP."
   ]
  },
  {
   "cell_type": "markdown",
   "metadata": {
    "id": "mcaY6GltdTko"
   },
   "source": [
    "### 3.1 PCA n=2 (3 Pts.)"
   ]
  },
  {
   "cell_type": "markdown",
   "metadata": {
    "id": "vwBsseMpJDAq"
   },
   "source": [
    "Realiza una gráfica de PCA con 2 componentes coloreando cada dato según su cluster para los resultados obtenidos con K-Means, DBSCAN y GMM."
   ]
  },
  {
   "cell_type": "code",
   "execution_count": null,
   "metadata": {},
   "outputs": [],
   "source": []
  },
  {
   "cell_type": "markdown",
   "metadata": {
    "id": "VFj9lZZndVnJ"
   },
   "source": [
    "### 3.2 t-SNE (2 Pts)"
   ]
  },
  {
   "cell_type": "markdown",
   "metadata": {
    "id": "9-rUoyvsJDAs"
   },
   "source": [
    "Realiza una gráfica de t-SNE con 2 componentes coloreando cada dato según su cluster para los resultados obtenidos con K-Means, DBSCAN y GMM."
   ]
  },
  {
   "cell_type": "code",
   "execution_count": null,
   "metadata": {},
   "outputs": [],
   "source": []
  },
  {
   "cell_type": "markdown",
   "metadata": {
    "id": "IRGM0rjxdYh0"
   },
   "source": [
    "### 3.3 UMAP (3 Pts.)"
   ]
  },
  {
   "cell_type": "markdown",
   "metadata": {
    "id": "h_VobWNWJDAu"
   },
   "source": [
    "Realiza una gráfica de UMAP con 2 componentes coloreando cada dato según su cluster para los resultados obtenidos con K-Means, DBSCAN y GMM."
   ]
  },
  {
   "cell_type": "code",
   "execution_count": null,
   "metadata": {},
   "outputs": [],
   "source": []
  },
  {
   "cell_type": "markdown",
   "metadata": {
    "id": "myEjout1dasK"
   },
   "source": [
    "### 3.4 Conclusiones (2 Pts.)"
   ]
  },
  {
   "cell_type": "markdown",
   "metadata": {
    "id": "ltDfc9u5JDAu"
   },
   "source": [
    "En base a lo observado en los gráficos obtenidos en la sección anterior conteste:\n",
    "\n",
    "- ¿Que método de reducción de dimensionalidad permite ver de mejor manera la agrupación de equipos?\n",
    "- ¿Observaste alguna relación entre los silhoutte score obtenidos y como se visualizaron los clusters en los gráficos anteriores? ¿Qué método de clusterización se comportó mejor al graficarlo?\n",
    "- ¿Existió algún cluster que se mantuvo entre las distintas técnicas de clusterización?"
   ]
  },
  {
   "cell_type": "markdown",
   "metadata": {
    "id": "20YPF483epYf"
   },
   "source": [
    "## 4. Redes Bayesianas (15 Pts.)"
   ]
  },
  {
   "cell_type": "markdown",
   "metadata": {
    "id": "4vlD2dshe7Dm"
   },
   "source": [
    "A continuación debes realizar un análisis de redes bayesianas sobre el dataset, con la finalidad de poder inferir la probabilidad de que un equipo pertenzca a cierto grupo o no, dadas las características que se presentan en el dataset."
   ]
  },
  {
   "cell_type": "markdown",
   "metadata": {
    "id": "KofpbGXZfAyZ"
   },
   "source": [
    "### 4.1 Explicación Teórica (5 Pts.)"
   ]
  },
  {
   "cell_type": "markdown",
   "metadata": {
    "id": "6m0_V6_CfFh8"
   },
   "source": [
    "Investiga sobre `Redes Bayesianas` y entrega una explicación de cómo funciona. `No es necesaria una explicación matemática`, el objetivo es que puedas tomar lo que aprendiste en clases o buscando en internet, y logres exponerlo de manera sintetizada para demostrar tu aprendizaje. Se espera que tu explicación contenga la respuesta a las siguientes preguntas:\n",
    "1. ¿Qué es?\n",
    "2. ¿Para qué sirve?\n",
    "3. ¿Cómo se construye?\n",
    "4. ¿Qué es un nodo y una arista en una red bayesiana?\n",
    "5. ¿Qué es un CPD?\n",
    "\n",
    "**❗IMPORTANTE❗** No utilices ChatGPT u otro modelo de lenguaje para responder esta pregunta. Será evaluado que cites al menos 1 recurso bibliográfico que hayas utilizado. Cualquier información que no tenga una referencia clara no se le dará puntaje."
   ]
  },
  {
   "cell_type": "markdown",
   "metadata": {
    "id": "sf5zL5uS8xwy"
   },
   "source": [
    "### 4.2 Aprender la estructura de la red bayesiana (3 Pts.)"
   ]
  },
  {
   "cell_type": "markdown",
   "metadata": {
    "id": "9sxJCX_d9OuK"
   },
   "source": [
    "Del DataFrame original, elimine la columna `team`.\n",
    "Luego, utilice la librería pgmpy en Python para aplicar el algoritmo Hill Climb Search con el criterio de puntuación BDs y encontrar la estructura óptima de una red bayesiana. Puedes guiarte de las actividades vistas en clases.\n",
    "\n",
    "(Sugerencia: la clase `BDs` se importa de forma simiar a `BIC`, es decir, `from pgmpy.estimators import BDs`)"
   ]
  },
  {
   "cell_type": "code",
   "execution_count": null,
   "metadata": {},
   "outputs": [],
   "source": []
  },
  {
   "cell_type": "markdown",
   "metadata": {
    "id": "u8rQoYNUF0N1"
   },
   "source": [
    "### 4.3 Encontrar la estructura óptima (2 Pts.)"
   ]
  },
  {
   "cell_type": "markdown",
   "metadata": {
    "id": "IjD8M2SHGEF1"
   },
   "source": [
    "En esta sección, debes entrenar la red bayesiana con los datos de entrenamiento usando la estructura óptima encontrada en la sección anterior, ajustando los parámetros usando priors de Dirichlet con cuentas uniformes. Luego, debes imprimir las probabilidades condicionales de la red bayesiana."
   ]
  },
  {
   "cell_type": "code",
   "execution_count": null,
   "metadata": {},
   "outputs": [],
   "source": []
  },
  {
   "cell_type": "markdown",
   "metadata": {
    "id": "xj6IlwJmGKgQ"
   },
   "source": [
    "### 4.4 Inferencia sobre los datos (5 Pts.)"
   ]
  },
  {
   "cell_type": "markdown",
   "metadata": {
    "id": "NFDxBuD9GPda"
   },
   "source": [
    "Finalmente, debes realizar inferencia sobre la red bayesiana. Para esto, se te pide que calcules la probabilidad de que un equipo pertenezca al grupo `groups` dadas las siguientes características\n",
    "\n",
    "- Equipo 1: 'fouls_committed': 706, 'duels_won': 433\n",
    "- Equipo 2: 'total_shots': 439, 'total_passes': 15919\n",
    "- Equipo 3: 'goals': 80, 'goals_against': 51, 'onTarget': 137\n",
    "\n",
    "¿Que limitaciones cree que tiene este modelo para el problema?"
   ]
  },
  {
   "cell_type": "code",
   "execution_count": null,
   "metadata": {},
   "outputs": [],
   "source": []
  },
  {
   "cell_type": "markdown",
   "metadata": {
    "id": "hAe3YS1EdfIP"
   },
   "source": [
    "## 5. Asociaciones (15 Pts.)"
   ]
  },
  {
   "cell_type": "markdown",
   "metadata": {
    "id": "waotTcAXJDAu"
   },
   "source": [
    "Debido a tu gran desempeño en tu labor anterior detectando los distintos tipos de equipos en las 5 grandes ligas de fútbol, el empresario multimillonario te quiere encargar una nueva misión. Se ha enterado que el último campéon de la Eurocopa ha sido España, por lo que quiere fichar jugadores de esta selección que se relacionen bien entre ellos para poder ficharlos. Para conseguir lo anterior, te ha entregado un dataset con las secuencias de pases de los jugadores de la Selección Española durante sus partidos en la Eurocopa 2024 y tu labor será encontrar los jugadores que mejor se asocian.\n",
    "\n",
    "Una secuencia de pases se entiende como todos los jugadores que se dieron pases entre ellos antes de que el equipo haya perdido el balón o el juego se haya detenido por algún motivo. El dataset contiene lineas con los nombres de los jugadores que participaron en una secuencia de pases separados por ;."
   ]
  },
  {
   "cell_type": "markdown",
   "metadata": {
    "id": "Pboh0vKKeKJN"
   },
   "source": [
    "### 5.1 Cargar Datos (2 Pts.)"
   ]
  },
  {
   "cell_type": "markdown",
   "metadata": {
    "id": "ppslQtuNJDAv"
   },
   "source": [
    "Carga el dataset `passes.csv` y dejando los datos como una lista de listas."
   ]
  },
  {
   "cell_type": "code",
   "execution_count": null,
   "metadata": {},
   "outputs": [],
   "source": []
  },
  {
   "cell_type": "markdown",
   "metadata": {
    "id": "IM_7Ayt0ebMc"
   },
   "source": [
    "### 5.2 Mostrar frecuencia (3 Pts.)"
   ]
  },
  {
   "cell_type": "markdown",
   "metadata": {
    "id": "Rztxe6KQJDAv"
   },
   "source": [
    "A continuación debes mostrar la frecuencia de participación de los jugadores en las secuencias de pases ordenadas de manera descendente."
   ]
  },
  {
   "cell_type": "code",
   "execution_count": null,
   "metadata": {},
   "outputs": [],
   "source": []
  },
  {
   "cell_type": "markdown",
   "metadata": {
    "id": "E9PDFDDGegWN"
   },
   "source": [
    "### 5.3 Transformar datos (3 Pts)"
   ]
  },
  {
   "cell_type": "markdown",
   "metadata": {
    "id": "Dis4YDkAJDAv"
   },
   "source": [
    "Utiliza `TransactionEncoder()` para codificar las secuencias de pases en vectores."
   ]
  },
  {
   "cell_type": "code",
   "execution_count": null,
   "metadata": {},
   "outputs": [],
   "source": []
  },
  {
   "cell_type": "markdown",
   "metadata": {
    "id": "RcbmgcpvejEb"
   },
   "source": [
    "### 5.4 Matriz de co-ocurrencia (2 Pts.)"
   ]
  },
  {
   "cell_type": "markdown",
   "metadata": {
    "id": "HvBok9-pJDAw"
   },
   "source": [
    "Genera la matriz de co-ocurrencia para observar con qué frecuencia los jugadores participan entre sí en las secuencias de pases. En base a la matriz contesta las siguientes preguntas:\n",
    "\n",
    "- ¿Qué jugadores se observa que estan relacionados?\n",
    "- Revisando las formaciones de España durante la Eurocopa, ¿se observa alguna relación entre las posiciones en el campo y los jugadores con mayor relación entre ellos?\n",
    "\n",
    "[España v/s Croacia](https://www.sofascore.com/football/match/croatia-spain/YTbspUb#id:11873907)\n",
    "\n",
    "[España v/s Italia](https://www.sofascore.com/football/match/italy-spain/YTbshUb#id:11873901)\n",
    "\n",
    "[España v/s Albania](https://www.sofascore.com/football/match/spain-albania/PTbsYTb#id:11873904)\n",
    "\n",
    "[España v/s Georgia](https://www.sofascore.com/football/match/georgia-spain/YTbsnVb#id:11874031)\n",
    "\n",
    "[España v/s Alemania](https://www.sofascore.com/football/match/germany-spain/YTbslUb#id:11874027)\n",
    "\n",
    "[España v/s Francia](https://www.sofascore.com/football/match/germany-spain/YTbslUb#id:11874027)\n",
    "\n",
    "[España v/s Inglaterra](https://www.sofascore.com/football/match/england-spain/YTbsnUb#id:11874023)"
   ]
  },
  {
   "cell_type": "code",
   "execution_count": null,
   "metadata": {},
   "outputs": [],
   "source": []
  },
  {
   "cell_type": "markdown",
   "metadata": {
    "id": "1Wl4YqspepiE"
   },
   "source": [
    "### 5.5 Algoritmo a-priori (5 Pts.)"
   ]
  },
  {
   "cell_type": "markdown",
   "metadata": {
    "id": "wKO_XxWxJDAx"
   },
   "source": [
    "Aplica el algoritmo Apriori con min_support=0.1 y analiza los resultados obtenidos."
   ]
  },
  {
   "cell_type": "code",
   "execution_count": null,
   "metadata": {},
   "outputs": [],
   "source": []
  },
  {
   "cell_type": "markdown",
   "metadata": {
    "id": "jJKZymCQJDAx"
   },
   "source": [
    "A continuación, genera las reglas de asociación utilizando association_rules, con un umbral min_threshold=0.3, y en base a los resultados obtenidos conteste las siguientes preguntas:\n",
    "\n",
    "- ¿Qué par de jugadores recomendaría que se ficharan juntos?\n",
    "- ¿Crees que este método es suficiente para recomendar fichaje de jugadores? ¿Por qué?"
   ]
  },
  {
   "cell_type": "code",
   "execution_count": null,
   "metadata": {
    "id": "gGowWZ6uJDAx"
   },
   "outputs": [],
   "source": []
  }
 ],
 "metadata": {
  "colab": {
   "provenance": []
  },
  "kernelspec": {
   "display_name": "Python 3 (ipykernel)",
   "language": "python",
   "name": "python3"
  },
  "language_info": {
   "codemirror_mode": {
    "name": "ipython",
    "version": 3
   },
   "file_extension": ".py",
   "mimetype": "text/x-python",
   "name": "python",
   "nbconvert_exporter": "python",
   "pygments_lexer": "ipython3",
   "version": "3.12.5"
  },
  "widgets": {
   "application/vnd.jupyter.widget-state+json": {
    "19876e57b8fa4e888ecc8038d1b46e12": {
     "model_module": "@jupyter-widgets/base",
     "model_module_version": "1.2.0",
     "model_name": "LayoutModel",
     "state": {
      "_model_module": "@jupyter-widgets/base",
      "_model_module_version": "1.2.0",
      "_model_name": "LayoutModel",
      "_view_count": null,
      "_view_module": "@jupyter-widgets/base",
      "_view_module_version": "1.2.0",
      "_view_name": "LayoutView",
      "align_content": null,
      "align_items": null,
      "align_self": null,
      "border": null,
      "bottom": null,
      "display": null,
      "flex": null,
      "flex_flow": null,
      "grid_area": null,
      "grid_auto_columns": null,
      "grid_auto_flow": null,
      "grid_auto_rows": null,
      "grid_column": null,
      "grid_gap": null,
      "grid_row": null,
      "grid_template_areas": null,
      "grid_template_columns": null,
      "grid_template_rows": null,
      "height": null,
      "justify_content": null,
      "justify_items": null,
      "left": null,
      "margin": null,
      "max_height": null,
      "max_width": null,
      "min_height": null,
      "min_width": null,
      "object_fit": null,
      "object_position": null,
      "order": null,
      "overflow": null,
      "overflow_x": null,
      "overflow_y": null,
      "padding": null,
      "right": null,
      "top": null,
      "visibility": null,
      "width": null
     }
    },
    "1d0acb1324a44ed5aac9f6049f077a8e": {
     "model_module": "@jupyter-widgets/controls",
     "model_module_version": "1.5.0",
     "model_name": "HBoxModel",
     "state": {
      "_dom_classes": [],
      "_model_module": "@jupyter-widgets/controls",
      "_model_module_version": "1.5.0",
      "_model_name": "HBoxModel",
      "_view_count": null,
      "_view_module": "@jupyter-widgets/controls",
      "_view_module_version": "1.5.0",
      "_view_name": "HBoxView",
      "box_style": "",
      "children": [
       "IPY_MODEL_5d55da6932e843e684f92c165bcf4e7c",
       "IPY_MODEL_584a5bff51ee4b12a047e044b3742804",
       "IPY_MODEL_fde4e7cfeb6847e1a0ea29d3914f2d4e"
      ],
      "layout": "IPY_MODEL_fc707c51115546a18c522a35ce2c2c4d"
     }
    },
    "3f11e148b9764bca822dc9d7cba4aab9": {
     "model_module": "@jupyter-widgets/controls",
     "model_module_version": "1.5.0",
     "model_name": "DescriptionStyleModel",
     "state": {
      "_model_module": "@jupyter-widgets/controls",
      "_model_module_version": "1.5.0",
      "_model_name": "DescriptionStyleModel",
      "_view_count": null,
      "_view_module": "@jupyter-widgets/base",
      "_view_module_version": "1.2.0",
      "_view_name": "StyleView",
      "description_width": ""
     }
    },
    "584a5bff51ee4b12a047e044b3742804": {
     "model_module": "@jupyter-widgets/controls",
     "model_module_version": "1.5.0",
     "model_name": "FloatProgressModel",
     "state": {
      "_dom_classes": [],
      "_model_module": "@jupyter-widgets/controls",
      "_model_module_version": "1.5.0",
      "_model_name": "FloatProgressModel",
      "_view_count": null,
      "_view_module": "@jupyter-widgets/controls",
      "_view_module_version": "1.5.0",
      "_view_name": "ProgressView",
      "bar_style": "danger",
      "description": "",
      "description_tooltip": null,
      "layout": "IPY_MODEL_19876e57b8fa4e888ecc8038d1b46e12",
      "max": 1000000,
      "min": 0,
      "orientation": "horizontal",
      "style": "IPY_MODEL_b38bfc71aac2433fb8d1e1969d69bee2",
      "value": 25
     }
    },
    "5d55da6932e843e684f92c165bcf4e7c": {
     "model_module": "@jupyter-widgets/controls",
     "model_module_version": "1.5.0",
     "model_name": "HTMLModel",
     "state": {
      "_dom_classes": [],
      "_model_module": "@jupyter-widgets/controls",
      "_model_module_version": "1.5.0",
      "_model_name": "HTMLModel",
      "_view_count": null,
      "_view_module": "@jupyter-widgets/controls",
      "_view_module_version": "1.5.0",
      "_view_name": "HTMLView",
      "description": "",
      "description_tooltip": null,
      "layout": "IPY_MODEL_97d8893e0e26457a88cfaee8de13d918",
      "placeholder": "​",
      "style": "IPY_MODEL_3f11e148b9764bca822dc9d7cba4aab9",
      "value": "  0%"
     }
    },
    "68e431e82e7d4f22a727023597227ab8": {
     "model_module": "@jupyter-widgets/controls",
     "model_module_version": "1.5.0",
     "model_name": "DescriptionStyleModel",
     "state": {
      "_model_module": "@jupyter-widgets/controls",
      "_model_module_version": "1.5.0",
      "_model_name": "DescriptionStyleModel",
      "_view_count": null,
      "_view_module": "@jupyter-widgets/base",
      "_view_module_version": "1.2.0",
      "_view_name": "StyleView",
      "description_width": ""
     }
    },
    "97d8893e0e26457a88cfaee8de13d918": {
     "model_module": "@jupyter-widgets/base",
     "model_module_version": "1.2.0",
     "model_name": "LayoutModel",
     "state": {
      "_model_module": "@jupyter-widgets/base",
      "_model_module_version": "1.2.0",
      "_model_name": "LayoutModel",
      "_view_count": null,
      "_view_module": "@jupyter-widgets/base",
      "_view_module_version": "1.2.0",
      "_view_name": "LayoutView",
      "align_content": null,
      "align_items": null,
      "align_self": null,
      "border": null,
      "bottom": null,
      "display": null,
      "flex": null,
      "flex_flow": null,
      "grid_area": null,
      "grid_auto_columns": null,
      "grid_auto_flow": null,
      "grid_auto_rows": null,
      "grid_column": null,
      "grid_gap": null,
      "grid_row": null,
      "grid_template_areas": null,
      "grid_template_columns": null,
      "grid_template_rows": null,
      "height": null,
      "justify_content": null,
      "justify_items": null,
      "left": null,
      "margin": null,
      "max_height": null,
      "max_width": null,
      "min_height": null,
      "min_width": null,
      "object_fit": null,
      "object_position": null,
      "order": null,
      "overflow": null,
      "overflow_x": null,
      "overflow_y": null,
      "padding": null,
      "right": null,
      "top": null,
      "visibility": null,
      "width": null
     }
    },
    "a4c70b26ce954963a1fa673d745d5e56": {
     "model_module": "@jupyter-widgets/base",
     "model_module_version": "1.2.0",
     "model_name": "LayoutModel",
     "state": {
      "_model_module": "@jupyter-widgets/base",
      "_model_module_version": "1.2.0",
      "_model_name": "LayoutModel",
      "_view_count": null,
      "_view_module": "@jupyter-widgets/base",
      "_view_module_version": "1.2.0",
      "_view_name": "LayoutView",
      "align_content": null,
      "align_items": null,
      "align_self": null,
      "border": null,
      "bottom": null,
      "display": null,
      "flex": null,
      "flex_flow": null,
      "grid_area": null,
      "grid_auto_columns": null,
      "grid_auto_flow": null,
      "grid_auto_rows": null,
      "grid_column": null,
      "grid_gap": null,
      "grid_row": null,
      "grid_template_areas": null,
      "grid_template_columns": null,
      "grid_template_rows": null,
      "height": null,
      "justify_content": null,
      "justify_items": null,
      "left": null,
      "margin": null,
      "max_height": null,
      "max_width": null,
      "min_height": null,
      "min_width": null,
      "object_fit": null,
      "object_position": null,
      "order": null,
      "overflow": null,
      "overflow_x": null,
      "overflow_y": null,
      "padding": null,
      "right": null,
      "top": null,
      "visibility": null,
      "width": null
     }
    },
    "b38bfc71aac2433fb8d1e1969d69bee2": {
     "model_module": "@jupyter-widgets/controls",
     "model_module_version": "1.5.0",
     "model_name": "ProgressStyleModel",
     "state": {
      "_model_module": "@jupyter-widgets/controls",
      "_model_module_version": "1.5.0",
      "_model_name": "ProgressStyleModel",
      "_view_count": null,
      "_view_module": "@jupyter-widgets/base",
      "_view_module_version": "1.2.0",
      "_view_name": "StyleView",
      "bar_color": null,
      "description_width": ""
     }
    },
    "fc707c51115546a18c522a35ce2c2c4d": {
     "model_module": "@jupyter-widgets/base",
     "model_module_version": "1.2.0",
     "model_name": "LayoutModel",
     "state": {
      "_model_module": "@jupyter-widgets/base",
      "_model_module_version": "1.2.0",
      "_model_name": "LayoutModel",
      "_view_count": null,
      "_view_module": "@jupyter-widgets/base",
      "_view_module_version": "1.2.0",
      "_view_name": "LayoutView",
      "align_content": null,
      "align_items": null,
      "align_self": null,
      "border": null,
      "bottom": null,
      "display": null,
      "flex": null,
      "flex_flow": null,
      "grid_area": null,
      "grid_auto_columns": null,
      "grid_auto_flow": null,
      "grid_auto_rows": null,
      "grid_column": null,
      "grid_gap": null,
      "grid_row": null,
      "grid_template_areas": null,
      "grid_template_columns": null,
      "grid_template_rows": null,
      "height": null,
      "justify_content": null,
      "justify_items": null,
      "left": null,
      "margin": null,
      "max_height": null,
      "max_width": null,
      "min_height": null,
      "min_width": null,
      "object_fit": null,
      "object_position": null,
      "order": null,
      "overflow": null,
      "overflow_x": null,
      "overflow_y": null,
      "padding": null,
      "right": null,
      "top": null,
      "visibility": null,
      "width": null
     }
    },
    "fde4e7cfeb6847e1a0ea29d3914f2d4e": {
     "model_module": "@jupyter-widgets/controls",
     "model_module_version": "1.5.0",
     "model_name": "HTMLModel",
     "state": {
      "_dom_classes": [],
      "_model_module": "@jupyter-widgets/controls",
      "_model_module_version": "1.5.0",
      "_model_name": "HTMLModel",
      "_view_count": null,
      "_view_module": "@jupyter-widgets/controls",
      "_view_module_version": "1.5.0",
      "_view_name": "HTMLView",
      "description": "",
      "description_tooltip": null,
      "layout": "IPY_MODEL_a4c70b26ce954963a1fa673d745d5e56",
      "placeholder": "​",
      "style": "IPY_MODEL_68e431e82e7d4f22a727023597227ab8",
      "value": " 25/1000000 [00:08&lt;38:04:12,  7.30it/s]"
     }
    }
   }
  }
 },
 "nbformat": 4,
 "nbformat_minor": 4
}
