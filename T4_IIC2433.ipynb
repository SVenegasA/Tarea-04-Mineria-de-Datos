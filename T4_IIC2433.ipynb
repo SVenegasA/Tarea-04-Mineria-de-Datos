{
 "cells": [
  {
   "cell_type": "markdown",
   "metadata": {
    "id": "ysyRIyWu4SX2"
   },
   "source": [
    "Pontificia Universidad Católica de Chile <br>\n",
    "Departamento de Ciencia de la Computación <br>\n",
    "IIC2433 - Minería de Datos\n",
    "<br>\n",
    "\n",
    "<center>\n",
    "    <h2> Tarea 4 </h2>\n",
    "    <h1> Clustering, Asociaciones y Redes Bayesianas </h1>\n",
    "    <p>\n",
    "        Profesor Marcelo Mendoza<br>\n",
    "        Primer Semestre 2025<br>    \n",
    "        Fecha de entrega: 23 de mayo\n",
    "    </p>\n",
    "    <br>\n",
    "</center>\n",
    "\n",
    "<br>\n",
    "\n",
    "---"
   ]
  },
  {
   "cell_type": "markdown",
   "metadata": {
    "id": "N1gzcm4-4gQI"
   },
   "source": [
    "## Indicaciones\n",
    "\n",
    "Deberás entregar **SOLO** el archivo .ipynb en el buzón respectivo en canvas.\n",
    "\n",
    "**IMPORTANTE**:\n",
    "- Se te dará puntaje tanto por código como por la manera en la que respondas las preguntas planteadas. Es decir, si tienes un código perfecto pero este no es explicado o no se responden preguntas asociadas a este, no se tendrá el puntaje completo.\n",
    "- El notebook debe tener todas las celdas de código ejecutadas. Cualquier notebook que no las tenga no podrá ser corregido.\n",
    "- El carácter de esta tarea es **INDIVIDUAL**. Cualquier instancia de copia resultará en un 1,1 como nota de curso.\n",
    "\n",
    "---"
   ]
  },
  {
   "cell_type": "markdown",
   "metadata": {
    "id": "-PLcmcQrJDAa"
   },
   "source": [
    "## Librerías"
   ]
  },
  {
   "cell_type": "markdown",
   "metadata": {
    "id": "q7VzbhLlJDAa"
   },
   "source": [
    "A continuación se encuentran las librerías necesarias para elaborar la tarea. Recuerda ejecutar la celda antes de comenzar."
   ]
  },
  {
   "cell_type": "code",
   "execution_count": null,
   "metadata": {
    "id": "B-BJFn0VJDAa"
   },
   "outputs": [],
   "source": [
    "import pandas as pd\n",
    "import numpy as np\n",
    "import matplotlib.pyplot as plt\n",
    "import seaborn as sns\n",
    "\n",
    "from sklearn.preprocessing import StandardScaler\n",
    "from sklearn.cluster import KMeans, DBSCAN\n",
    "from sklearn.mixture import GaussianMixture\n",
    "from sklearn.neighbors import NearestNeighbors\n",
    "from sklearn.decomposition import PCA\n",
    "from sklearn.manifold import TSNE\n",
    "from sklearn.metrics import silhouette_score\n",
    "from sklearn.metrics.pairwise import cosine_similarity\n",
    "\n",
    "\n",
    "import umap.umap_ as UMAP\n",
    "\n",
    "from pgmpy.inference import VariableElimination\n",
    "from pgmpy.models import DiscreteBayesianNetwork\n",
    "from pgmpy.estimators import BayesianEstimator\n",
    "from pgmpy.estimators import HillClimbSearch, BDs\n",
    "\n",
    "from mlxtend.frequent_patterns import apriori, association_rules\n",
    "from mlxtend.preprocessing import TransactionEncoder\n",
    "\n",
    "#Librerías aparte\n",
    "from sklearn import cluster\n",
    "from collections import Counter\n",
    "\n"
   ]
  },
  {
   "cell_type": "markdown",
   "metadata": {
    "id": "OLb_ZLGKJDAc"
   },
   "source": [
    "## Contexto"
   ]
  },
  {
   "cell_type": "markdown",
   "metadata": {
    "id": "75wbEIs9JDAc"
   },
   "source": [
    "Un empresario multimillonario acaba de comprar un club de fútbol de las 5 mejores ligas del mundo y te ha contactado a ti como experto en Mineria de Datos para que lo ayudes a saber como llevar a su nuevo equipo a los primeros lugares. Para conseguir lo anterior te ha entregado datos de la temporada 2015-2016 de la Bundelisga (Alemania), La Liga (España), Ligue 1 (Francia), Premier League (Inglaterra) y Serie A (Italia) con las estadísticas de los equipos que participaron en esa temporada en sus respectivas ligas para poder encontrar estilos de juegos que le puedan servir para replicar en su nuevo equipo."
   ]
  },
  {
   "cell_type": "markdown",
   "metadata": {
    "id": "y2jG2kYAa3Lz"
   },
   "source": [
    "## 1. Carga y Preprocesamiento de Datos (5 Pts.)"
   ]
  },
  {
   "cell_type": "markdown",
   "metadata": {
    "id": "_f7nAquobBQu"
   },
   "source": [
    "### 1.1 Cargar Datos"
   ]
  },
  {
   "cell_type": "markdown",
   "metadata": {
    "id": "Sp7tjDwCJDAf"
   },
   "source": [
    "Cargue el dataset `teams.csv`. Indique la cantidad de filas y columnas del conjunto de datos. ¿Existen datos nulos? De ser así, mencione el número de casos por variable y luego elimine todas filas que tengan a lo menos un valor nulo."
   ]
  },
  {
   "cell_type": "code",
   "execution_count": null,
   "metadata": {
    "colab": {
     "base_uri": "https://localhost:8080/",
     "height": 343
    },
    "id": "rEM-U4laRXjk",
    "outputId": "76d700a2-50dd-4e97-ef66-66210adbbf26"
   },
   "outputs": [],
   "source": [
    "df_teams = pd.read_csv(\"teams.csv\")\n",
    "df_teams = df_teams.drop([\"Unnamed: 0\"], axis = 1)"
   ]
  },
  {
   "cell_type": "code",
   "execution_count": null,
   "metadata": {},
   "outputs": [],
   "source": [
    "df_teams.info()"
   ]
  },
  {
   "cell_type": "markdown",
   "metadata": {},
   "source": [
    "El dataset contiene 77 filas (Sin contar el header) y 27 columnas "
   ]
  },
  {
   "cell_type": "markdown",
   "metadata": {},
   "source": [
    "Además aparentemente (Al menos según pandas y posterior indagación dentro del archivo .csv) no existen datos nulos"
   ]
  },
  {
   "cell_type": "markdown",
   "metadata": {
    "id": "b7i4XF4bbEA6"
   },
   "source": [
    "### 1.2 Descripción del dataset (1 Pts.)"
   ]
  },
  {
   "cell_type": "markdown",
   "metadata": {
    "id": "CHXQMafPJDAf"
   },
   "source": [
    "Describa brevemente cuantas columnas tiene el dataset y defina que significa cada columna del dataset. Para lo anterior te puedes apoyar de las siguientes páginas webs:\n",
    "\n",
    "- [Definición Métricas Opta](https://theanalyst.com/2024/07/opta-football-stats-definitions)\n",
    "- [Explicación xG Opta](https://theanalyst.com/2023/08/what-is-expected-goals-xg)\n",
    "- [Definición Métricas StatsPerform](https://www.statsperform.com/opta-event-definitions/)\n",
    "- [Glosario WhoScored](https://www.whoscored.com/glossary)"
   ]
  },
  {
   "cell_type": "code",
   "execution_count": null,
   "metadata": {},
   "outputs": [],
   "source": [
    "df_teams"
   ]
  },
  {
   "cell_type": "code",
   "execution_count": null,
   "metadata": {
    "id": "ueA3JhIybaMJ"
   },
   "outputs": [],
   "source": [
    "df_teams.info()"
   ]
  },
  {
   "cell_type": "markdown",
   "metadata": {},
   "source": [
    "Las columnas del dataset y lo que representa cada una es:\n",
    "1) team: Representa el equipo, veo que este tiene un valor unico por columna\n",
    "2) total_shots: Representa el número de veces que un equipo ha hecho un tiro\n",
    "3) onTarget: según la definición de métricas Opta, esta columna representaría el número de veces que se ha pateado la pelota hacia portería, incluyendo las veces que se ha hecho un gol (o score) como aquellas en las que el arquero lo ha evitado\n",
    "4) goals: Número de veces que un equipo ha hecho un gol\n",
    "5) xG_total: si xG representa la probabilidad de que un tiro resulte en gol, xG_total representa la suma de todos los xG de los tiros de un equipo\n",
    "6) Shot_to_goal_ratio: Sería la división entre el número de goles partido por el número total_shots de un equipo\n",
    "7) Shot_onTarget_to_goal_ratio: Sería la división entre el número de goles partido por el número onTarget de un equipo\n",
    "8) xG/shot: Corresponde a la fracción de la probabilidad de que un tiro resulte en gol partido por el número de tiros\n",
    "9) recoveries: Número de veces en la que un equipo ha recuperado la pelota en situaciones en las que ninguno de los equipos la tiene o cuando la pelota ha sido jugada directamente hacia el por un equipo rival, así asegurando la posesión de la pelota para el equipo\n",
    "10) recoveries_f3: Es lo mismo que recoveries pero hecha en la zona F3 del campo de futbol, siendo F3 la zona defensiva del equipo rival (el tercio final del campo contrario)\n",
    "11) duels_won: Esta métrica aplicada a un equipo representaría el número de duelos individuales entre jugadores del equipo contra jugadores de equipos rivales que los jugadores del equipo han ganado. Siendo un duelo una disputa directa por el balón\n",
    "12) fouls_committed: Número de veces que jugadores del equipo han infringido reglas del juego.\n",
    "13) shots_against: Número de intentos de gol que el equipo rival ha realizado\n",
    "14) shots_onTarget_against: Lo mismo que shots_against solo que estos se refieren a tiros que iban dirigidos directos a portería y cuya línea de defensa es solo el arquero\n",
    "15) xGA: Es lo mismo que xG pero tomando solo los tiros hechos por el equipo rival\n",
    "16) goals_against: Es el número de goles que les han hecho al equipo\n",
    "17) clean_sheets: Número de partidos en los que el equipo no ha recibido goles.\n",
    "18) ppda: Passes Per Defensive Action. Mide la intensidad de la presión de un equipo. Un PPDA bajo indica una presión más alta.\n",
    "19) total_passes: El número total de pases realizados por el equipo.\n",
    "20) f3_passes: Pases realizados en el último tercio del campo (zona f3).\n",
    "21) short_passes: Pases de menos de 30 metros de distancia.\n",
    "22) long_passes: Pases de 30 metros o más de distancia.\n",
    "23) average_pass_length: La distancia promedio de los pases del equipo.\n",
    "24) crosses: Se refiere a los pases que se envían desde las bandas del campo hacia el área de penalti, generalmente con la intención de que un compañero remate a portería. Son una métrica clave para evaluar la creación de oportunidades de gol desde las alas del terreno de juego.\n",
    "25) ranking: Indica la posición actual de un equipo dentro de una liga, torneo o competición en particular. Este puesto se determina en función de un sistema de puntuación (victoria, empate, derrota) o de otros criterios de rendimiento establecidos por la competición.\n",
    "26) points_per_match: Es una métrica que calcula el promedio de puntos que un equipo ha obtenido en cada partido disputado a lo largo de una temporada o competición. Se obtiene dividiendo el total de puntos acumulados por el número de partidos jugados. Es un buen indicador de la consistencia del rendimiento de un equipo.\n",
    "27) groups: Esta columna representa el grupo al que pertenece el equipo"
   ]
  },
  {
   "cell_type": "markdown",
   "metadata": {
    "id": "cbY0lgdNbeVL"
   },
   "source": [
    "### 1.3 Normalización (1 Pts.)"
   ]
  },
  {
   "cell_type": "markdown",
   "metadata": {
    "id": "egO3hCTKJDAh"
   },
   "source": [
    "Realice el proceso de normalización sobre la matriz de variables explicativas utilizando el método StandardScaler. A partir de aquí, tiene que usar esta matriz para los experimentos. Para lo anterior, elimine las columnas `team`, `ranking`, `points_per_match` y `groups`, pero mantenga una copia del dataframe original, ya que lo necesitaras en secciones posteriores."
   ]
  },
  {
   "cell_type": "code",
   "execution_count": null,
   "metadata": {},
   "outputs": [],
   "source": [
    "df_teams_copy = df_teams.copy()\n",
    "df_teams_copy= df_teams_copy.drop([\"team\", \"ranking\", \"points_per_match\", \"groups\"], axis = 1)\n",
    "\n",
    "df_teams_copy.info()"
   ]
  },
  {
   "cell_type": "code",
   "execution_count": null,
   "metadata": {},
   "outputs": [],
   "source": [
    "df_teams_copy.info()"
   ]
  },
  {
   "cell_type": "code",
   "execution_count": null,
   "metadata": {},
   "outputs": [],
   "source": [
    "scaler = StandardScaler()\n",
    "X = scaler.fit_transform(df_teams_copy)\n",
    "X"
   ]
  },
  {
   "cell_type": "markdown",
   "metadata": {
    "id": "18ngyHQmJDAh"
   },
   "source": [
    "### 1.4 Matriz de correlación (2 Pts.)"
   ]
  },
  {
   "cell_type": "markdown",
   "metadata": {
    "id": "sguWEWCQJDAh"
   },
   "source": [
    "A partir del dataframe normalizado en la sección anterior construya la matriz de correlación. ¿Que variables tienen alta correlación ($> 0.8$)?"
   ]
  },
  {
   "cell_type": "code",
   "execution_count": null,
   "metadata": {},
   "outputs": [],
   "source": [
    "df_teams_copy.info()"
   ]
  },
  {
   "cell_type": "code",
   "execution_count": null,
   "metadata": {},
   "outputs": [],
   "source": [
    "nombres_cols = df_teams_copy.columns\n",
    "X_normalizado = pd.DataFrame(X, columns=nombres_cols)\n",
    "correlation_matrix = X_normalizado.corr()"
   ]
  },
  {
   "cell_type": "code",
   "execution_count": null,
   "metadata": {},
   "outputs": [],
   "source": [
    "high_corr_pairs = list()\n",
    "for i in range(len(correlation_matrix.columns)):\n",
    "    for j in range(i + 1, len(correlation_matrix.columns)):\n",
    "        col1 = correlation_matrix.columns[i]\n",
    "        col2 = correlation_matrix.columns[j]\n",
    "        correlation_value = correlation_matrix.iloc[i, j]\n",
    "\n",
    "        if abs(correlation_value) > 0.8:\n",
    "            high_corr_pairs.append((col1, col2, correlation_value))\n",
    "\n",
    "if high_corr_pairs:\n",
    "    for pair in high_corr_pairs:\n",
    "        print(f\"  {pair[0]} - {pair[1]}: {pair[2]:.4f}\")"
   ]
  },
  {
   "cell_type": "markdown",
   "metadata": {
    "id": "jzGEYnX7cc2C"
   },
   "source": [
    "## 2. Clustering (15 Pts.)"
   ]
  },
  {
   "cell_type": "markdown",
   "metadata": {
    "id": "ZUyyyrPUcuK4"
   },
   "source": [
    "### 2.1 K-Means (5 Pts.)"
   ]
  },
  {
   "cell_type": "markdown",
   "metadata": {
    "id": "g-slUxsXJDAi"
   },
   "source": [
    "#### 2.1.1 Explicación teórica (2 Pts.)"
   ]
  },
  {
   "cell_type": "markdown",
   "metadata": {
    "id": "V-5u9uTOJDAj"
   },
   "source": [
    "Investigue sobre `K-means` y entregue una explicación de como funciona. `No es necesario una explicación matemática`. Se espera que tu explicación contenga la respuesta a las siguientes preguntas:\n",
    "1. ¿Qué tipo de algoritmo es?\n",
    "2. ¿Para qué sirve?\n",
    "3. ¿Cómo funciona?\n",
    "4. ¿Qué es un centroide?\n",
    "5. ¿Que es la inercia en este contexto?\n",
    "\n",
    "**❗IMPORTANTE❗** No utilices ChatGPT u otro modelo de lenguaje para responder esta pregunta. Será evaluado que cites al menos 1 recurso bibliográfico que hayas utilizado. Cualquier información que no tenga una referencia clara no se le dará puntaje."
   ]
  },
  {
   "cell_type": "markdown",
   "metadata": {},
   "source": [
    "El algoritmo K-means es un algoritmo de clusterización mediante el cual se clasifica un grupo de datos en k categorías o clusters. Generalmente es usado para etiquetar datos no etiquetados. El procedimiento es el siguiente:\n",
    "1) Se empieza aleatoriamente eligiendo k puntos de los datos que harán de centroides inicialmente, nostros querremos que estos puntos sean el punto central o promedio de cada cluster más adelante\n",
    "2) \"Asignar cada punto del conjunto de datos al cluster cuyo centroide esté más cerca\" (fuente: https://www.iebschool.com/hub/algoritmo-k-means-que-es-y-como-funciona-big-data/). La metrica usada para medir que tan cerca está un punto de un centroide generalmente es la distancia euclideana (Fuente: https://www.ibm.com/mx-es/think/topics/k-means-clustering)\n",
    "3) Una vez agrupados los datos en distintos clusters, en cada cluster se calcula la posición media de los datos del cluster, para después actualizar la posición del centroide para que siga siendo el \"centro\" o que esté en la posición media del cluster\n",
    "4) Repetimos los pasos 2 y 3 hasta que la posición del centroide ya no cambie o se alcance el número máximo de iteraciones (https://www.iebschool.com/hub/algoritmo-k-means-que-es-y-como-funciona-big-data/), o \"hasta la variación de la inercia no sea significativa\" (fuente https://adrianchust.com/algoritmo-kmeans/). ya que según la misma página de donde obtuve la información anterior, la inercia es \"... el medidor que nos indica cómo de bien se han ajustado los datos\" y esta se calcula \"midiendo la distancia entre un punto de datos y su centroide\" (fuente: https://www.ibm.com/mx-es/think/topics/k-means-clustering#:~:text=La%20inercia%20se%20calcula%20midiendo%20la%20distancia%20entre,suma%20o%20valor%20inercial%20es%20la%20distancia%20intracluster.)\n",
    "\n",
    "Fuentes: \n",
    "- https://www.iebschool.com/hub/algoritmo-k-means-que-es-y-como-funciona-big-data/\n",
    "- https://www.ibm.com/mx-es/think/topics/k-means-clustering"
   ]
  },
  {
   "cell_type": "markdown",
   "metadata": {
    "id": "zORguryYJDAj"
   },
   "source": [
    "#### 2.1.2 Número de clusters (2 Pts.)"
   ]
  },
  {
   "cell_type": "markdown",
   "metadata": {
    "id": "4y-CueoZJDAj"
   },
   "source": [
    "La libreria [scikit-learn](https://scikit-learn.org/stable/modules/generated/sklearn.cluster.KMeans.html) tiene implementado este algoritmo. Grafique los valores de *inertia* y silhoutte score para un rango de 2 a 10 clusters. Determine el número óptimo de clusters."
   ]
  },
  {
   "cell_type": "code",
   "execution_count": null,
   "metadata": {},
   "outputs": [],
   "source": [
    "inertia_values = []\n",
    "silhouette_scores = []\n",
    "cluster_range = range(2, 11)\n",
    "\n",
    "for n_clusters in cluster_range:\n",
    "    kmeans = KMeans(n_clusters=n_clusters, random_state=40, n_init=10)\n",
    "    kmeans.fit(X_normalizado)\n",
    "    inertia_values.append(kmeans.inertia_)\n",
    "    \n",
    "    if n_clusters > 1:\n",
    "        silhouette_avg = silhouette_score(X_normalizado, kmeans.labels_)\n",
    "        silhouette_scores.append(silhouette_avg)\n",
    "    else:\n",
    "        silhouette_scores.append(0)\n",
    "\n",
    "plt.figure(figsize=(12, 5))\n",
    "\n",
    "plt.subplot(1, 2, 1)\n",
    "plt.plot(cluster_range, inertia_values, marker='o')\n",
    "plt.title('Inertia v/s nro clusters')\n",
    "plt.xlabel('Número de Clusters')\n",
    "plt.ylabel('Inertia')\n",
    "plt.xticks(cluster_range)\n",
    "plt.grid(True)\n",
    "\n",
    "plt.subplot(1, 2, 2)\n",
    "plt.plot(cluster_range, silhouette_scores, marker='o', color='red')\n",
    "plt.title('Silhouette Score')\n",
    "plt.xlabel('Número de Clusters')\n",
    "plt.ylabel('Silhouette Score')\n",
    "plt.xticks(cluster_range)\n",
    "plt.grid(True)\n",
    "\n",
    "plt.tight_layout()\n",
    "plt.show()\n"
   ]
  },
  {
   "cell_type": "markdown",
   "metadata": {},
   "source": [
    "Para decidir cuál nro de clusters elegir, decido aquel que sea beneficioso para ambos, es decir, aquel que me capture el mayor nivel de variación de inercia a su izquierda y que tenga preferiblemente un valor de silhouette score lo más alto posible. Por lo que decido tomar a la vista n_clusters = 4"
   ]
  },
  {
   "cell_type": "markdown",
   "metadata": {
    "id": "-Hd788V6JDAj"
   },
   "source": [
    "#### 2.1.3 Ejecutar K-Means (1 Pts.)"
   ]
  },
  {
   "cell_type": "markdown",
   "metadata": {
    "id": "mu9OQc2aJDAk"
   },
   "source": [
    "**Ejecute K-Means con un número de clusters igual a 4.** Una vez obtenidos los clusters imprima las posiciones en que terminaron esos equipos:\n",
    "\n",
    "- ¿Existe alguna relación entre los clusters obtenidos y la posición que obtuvieron los equipos de ese cluster respectivo?\n",
    "- Describa cada cluster según la posición de los clubes dentro de los clusters y otras estadísticas presentes en el dataset.\n",
    "\n",
    "Finalmente, calcule *silhouette score* con los valores escogidos."
   ]
  },
  {
   "cell_type": "code",
   "execution_count": null,
   "metadata": {
    "colab": {
     "base_uri": "https://localhost:8080/"
    },
    "id": "Gs-K3tT0JDAl",
    "outputId": "373a888b-6c8c-4ce6-bdd6-facb1c664153"
   },
   "outputs": [],
   "source": [
    "X_data_for_kmeans = X_normalizado.values\n",
    "n_clusters_optimal = 4\n",
    "\n",
    "kmeans = KMeans(n_clusters=n_clusters_optimal, random_state=40, n_init=10)\n",
    "kmeans.fit(X_data_for_kmeans)\n",
    "\n",
    "labels = kmeans.labels_\n",
    "centroids = kmeans.cluster_centers_\n",
    "\n",
    "# Utilizo pca ya que X_normalizado tiene más de 2 columans\n",
    "pca = PCA(n_components=2, random_state=40)\n",
    "\n",
    "# Aplico PCA a mis datos\n",
    "X_pca = pca.fit_transform(X_data_for_kmeans)\n",
    "\n",
    "centroids_pca = pca.transform(centroids)\n",
    "\n",
    "sns.set_style(\"whitegrid\")\n",
    "plt.figure(figsize=(10, 8))\n",
    "\n",
    "scatter = plt.scatter(X_pca[:, 0], X_pca[:, 1],\n",
    "                      c=labels, cmap='viridis', s=50, alpha=0.8, edgecolors='w')\n",
    "\n",
    "plt.scatter(centroids_pca[:, 0], centroids_pca[:, 1],\n",
    "            c='red', marker='X', s=200, label='Centroides', edgecolors='black')\n",
    "\n",
    "plt.title(f'Clusters de K-Means (K={n_clusters_optimal}) - Visualización con PCA')\n",
    "plt.xlabel(f'Componente Principal 1 ({pca.explained_variance_ratio_[0]*100:.2f}%)')\n",
    "plt.ylabel(f'Componente Principal 2 ({pca.explained_variance_ratio_[1]*100:.2f}%)')\n",
    "\n",
    "plt.legend()\n",
    "plt.colorbar(scatter, ticks=range(n_clusters_optimal), label='ID de Cluster')\n",
    "\n",
    "plt.show()\n"
   ]
  },
  {
   "cell_type": "code",
   "execution_count": null,
   "metadata": {},
   "outputs": [],
   "source": [
    "X_normalizado"
   ]
  },
  {
   "cell_type": "code",
   "execution_count": null,
   "metadata": {},
   "outputs": [],
   "source": [
    "df_teams['cluster_label'] = kmeans.fit_predict(X_data_for_kmeans)\n",
    "\n",
    "print(\"DataFrame con etiquetas de cluster:\")\n",
    "print(df_teams[['team', 'ranking', 'cluster_label']])\n",
    "\n",
    "print(\"\\n--- Posiciones de los equipos por Cluster ---\")\n",
    "for cluster_id in sorted(df_teams['cluster_label'].unique()):\n",
    "    cluster_teams = df_teams[df_teams['cluster_label'] == cluster_id]\n",
    "    print(f\"\\nCluster {cluster_id}:\")\n",
    "    print(cluster_teams[['team', 'ranking']].to_string(index=False)) "
   ]
  },
  {
   "cell_type": "markdown",
   "metadata": {},
   "source": [
    "Puedo ver entonces que no en todos los clusters hay una relación clara entre el id del cluster y el ranking o posición en la que se encuentra el equipo, ya que solo para el cluster 2 se podría decir que k-means obtiene resultados donde la mayoría de los datos agrupados en cluster 2 tienen un ranking que coincide que el id del cluster"
   ]
  },
  {
   "cell_type": "markdown",
   "metadata": {},
   "source": [
    "- Describa cada cluster según la posición de los clubes dentro de los clusters y otras estadísticas presentes en el dataset."
   ]
  },
  {
   "cell_type": "code",
   "execution_count": null,
   "metadata": {},
   "outputs": [],
   "source": [
    "# Cluster 0\n",
    "cluster_0 = df_teams[df_teams['cluster_label'] == 0]\n",
    "\n",
    "cluster_0[[\"ranking\", \"cluster_label\"]]\n"
   ]
  },
  {
   "cell_type": "code",
   "execution_count": null,
   "metadata": {},
   "outputs": [],
   "source": [
    "# cluster 1 \n",
    "cluster_1 = df_teams[df_teams['cluster_label'] == 1]\n",
    "cluster_1[[\"ranking\", \"cluster_label\"]]\n"
   ]
  },
  {
   "cell_type": "code",
   "execution_count": null,
   "metadata": {},
   "outputs": [],
   "source": [
    "# Cluster 2\n",
    "df_teams[df_teams['cluster_label'] == 2]\n",
    "\n",
    "cluster_2[[\"ranking\", \"cluster_label\"]]\n"
   ]
  },
  {
   "cell_type": "code",
   "execution_count": null,
   "metadata": {},
   "outputs": [],
   "source": [
    "# Cluster 3\n",
    "cluster_3 = df_teams[df_teams['cluster_label'] == 3]\n",
    "cluster_3[[\"ranking\", \"cluster_label\"]]\n"
   ]
  },
  {
   "cell_type": "markdown",
   "metadata": {},
   "source": [
    "Como podemos volver a ver, No hay una relación clara entre el id del cluster y el ranking de los equipos que son agrupados dentro de él. Por lo que voy a evaluar otras características"
   ]
  },
  {
   "cell_type": "code",
   "execution_count": null,
   "metadata": {},
   "outputs": [],
   "source": [
    "pd.set_option('display.max_columns', None)\n",
    "\n",
    "cluster_0.describe()"
   ]
  },
  {
   "cell_type": "code",
   "execution_count": null,
   "metadata": {},
   "outputs": [],
   "source": [
    "cluster_1.describe()"
   ]
  },
  {
   "cell_type": "code",
   "execution_count": null,
   "metadata": {},
   "outputs": [],
   "source": [
    "cluster_2.describe()"
   ]
  },
  {
   "cell_type": "code",
   "execution_count": null,
   "metadata": {},
   "outputs": [],
   "source": [
    "cluster_3.describe()"
   ]
  },
  {
   "cell_type": "markdown",
   "metadata": {},
   "source": [
    "cluster_0 según mi análisis, es el cluster que agrupa a los mejores equipos del dataset, ya que contiene el mayor valor promedio de goals (Sin considerar a cluster_2 ya que este tiene muchos menos datos en consideración), además que cluster_0 posee el mayor valor promedio de points_per_match, que según afirmé basado en Opta que este es un muy buen indicador del rendimiento del equipo. Finalmente también contiene el mayor promedio de ranking\n",
    "\n",
    "Cluster_1 este cluster contiene equipos con un promedio menor que el de cluster_0 y mayor que el de cluster_3, lo mismo pasa con su número de goles promedio, por lo que quizás este pueda describirse como el cluster de los segundo mejores equipos del dataset. Sin embargo contiene el mayor número de faltas promedio, lo que podría clasificarlo como un grupo de jugadores agresivos. Además que contiene el segundo mayor valor promedio en ranking\n",
    "\n",
    "En cuanto a cluster_2, es un grupo que al tener la mitad de los datos de cluster_0, podría confundirse con el cluster de los equipos de elite. Sin embargo dada la poca información que se tiene respecto a este en comparación a los demás clusters, no es comparable. Sin embargo, Contiene grupos en general muy buenos, con un Shot_onTarget_to_goal_ratio promedio mayor que el de los demás clusters\n",
    "\n",
    "Cluster_3 Finalmente es el cluster con los tercero mejores equipos del dataset, con el menor valor promedio de ranking y el mayor valor de faltas cometidas promedio en comparación a cluster_0 y cluster_1. "
   ]
  },
  {
   "cell_type": "markdown",
   "metadata": {
    "id": "VS5SlMWgc9Un"
   },
   "source": [
    "### 2.2 DBSCAN (5 Pts.)"
   ]
  },
  {
   "cell_type": "markdown",
   "metadata": {
    "id": "rDbCSBZRJDAl"
   },
   "source": [
    "Usando *k-dist plot* para MinPts=3, encuentre que rango de EPS deberiamos evaluar. Una vez obtenidos los clusters realice el mismo análisis de la sección anterior:\n",
    "\n",
    "- ¿Existe alguna relación entre los clusters obtenidos y la posición que obtuvieron los equipos de ese cluster respectivo?\n",
    "- Describa cada cluster según la posición de los clubes dentro de los clusters y otras estadísticas presentes en el dataset.\n",
    "\n",
    "Finalmente, calcule *silhouette score* con los valores escogidos"
   ]
  },
  {
   "cell_type": "code",
   "execution_count": null,
   "metadata": {},
   "outputs": [],
   "source": [
    "MinPts = 3 \n",
    "k = MinPts - 1\n",
    "\n",
    "neigh = NearestNeighbors(n_neighbors=MinPts, metric='euclidean')\n",
    "nbrs = neigh.fit(X_normalizado)\n",
    "distances, indices = nbrs.kneighbors(X_normalizado)\n",
    "k_distances = np.sort(distances[:, k], axis=0)\n",
    "\n",
    "plt.figure(figsize=(10, 6))\n",
    "plt.plot(k_distances)\n",
    "plt.xlabel(\"Índice de puntos (ordenado por distancia k)\")\n",
    "plt.ylabel(f\"Distancia al {MinPts-1}-ésimo vecino más cercano\")\n",
    "plt.title(f\"K-distance plot para MinPts = {MinPts}\")\n",
    "plt.grid(True)\n",
    "plt.show()\n"
   ]
  },
  {
   "cell_type": "markdown",
   "metadata": {},
   "source": [
    "Entonces si debemos clusterizar muchos datos, debemos usar un EPS ~ [3.5, 5.5]"
   ]
  },
  {
   "cell_type": "code",
   "execution_count": null,
   "metadata": {},
   "outputs": [],
   "source": [
    "dbscan = cluster.DBSCAN(eps=3.5, min_samples=MinPts)\n",
    "clusters = dbscan.fit_predict(X_normalizado)\n",
    "\n",
    "df_teams['DBSCAN_Cluster'] = clusters\n",
    "#cluster_0['DBSCAN_Cluster'] = clusters\n",
    "\n",
    "cluster_counts = Counter(clusters)\n",
    "print(\"Frecuencia de etiquetas de cluster:\", cluster_counts)"
   ]
  },
  {
   "cell_type": "markdown",
   "metadata": {},
   "source": [
    "Entonces veo que DBSCAN ha identificado 2 clusters y outliers -1"
   ]
  },
  {
   "cell_type": "code",
   "execution_count": null,
   "metadata": {},
   "outputs": [],
   "source": [
    "y_pred = clusters.astype(int)\n",
    "\n",
    "def colour(x):\n",
    "    return plt.cm.Dark2(x)\n",
    "\n",
    "colors = list(map(colour,y_pred))\n",
    "\n",
    "pca = PCA(n_components=2)\n",
    "X_pca = pca.fit_transform(X_normalizado)\n",
    "\n",
    "plt.figure(figsize=(10, 8))\n",
    "sns.scatterplot(x=X_pca[:, 0], y=X_pca[:, 1], hue=clusters, palette='viridis', s=50, alpha=0.7)\n",
    "plt.title('Clústeres de DBSCAN (Visualización con PCA)')\n",
    "plt.xlabel('Componente Principal 1')\n",
    "plt.ylabel('Componente Principal 2')\n",
    "plt.legend(title='Clúster')\n",
    "plt.grid(True)\n",
    "plt.show()"
   ]
  },
  {
   "cell_type": "code",
   "execution_count": null,
   "metadata": {},
   "outputs": [],
   "source": [
    "df_teams"
   ]
  },
  {
   "cell_type": "code",
   "execution_count": null,
   "metadata": {},
   "outputs": [],
   "source": [
    "# Cluster 0\n",
    "cluster_0 = df_teams[df_teams['DBSCAN_Cluster'] == 0]\n",
    "cluster_0[[\"ranking\", \"DBSCAN_Cluster\"]]\n"
   ]
  },
  {
   "cell_type": "code",
   "execution_count": null,
   "metadata": {},
   "outputs": [],
   "source": [
    "# Cluster 1\n",
    "cluster_1 = df_teams[df_teams['DBSCAN_Cluster'] == 1]\n",
    "cluster_1[[\"ranking\", \"DBSCAN_Cluster\"]]\n"
   ]
  },
  {
   "cell_type": "code",
   "execution_count": null,
   "metadata": {},
   "outputs": [],
   "source": [
    "# Cluster outliers\n",
    "cluster_01 = df_teams[df_teams['DBSCAN_Cluster'] == -1]\n",
    "cluster_01[[\"ranking\", \"DBSCAN_Cluster\"]]"
   ]
  },
  {
   "cell_type": "code",
   "execution_count": null,
   "metadata": {},
   "outputs": [],
   "source": [
    "cluster_0.describe()"
   ]
  },
  {
   "cell_type": "code",
   "execution_count": null,
   "metadata": {},
   "outputs": [],
   "source": [
    "cluster_1.describe()"
   ]
  },
  {
   "cell_type": "code",
   "execution_count": null,
   "metadata": {},
   "outputs": [],
   "source": [
    "cluster_01.describe()"
   ]
  },
  {
   "cell_type": "code",
   "execution_count": null,
   "metadata": {},
   "outputs": [],
   "source": [
    "for elemento in cluster_0.describe().mean():\n",
    "    print(elemento/17) # Divido por el número de datos para poder comparar"
   ]
  },
  {
   "cell_type": "code",
   "execution_count": null,
   "metadata": {},
   "outputs": [],
   "source": [
    "for elemento in cluster_1.describe().mean():\n",
    "    print(elemento/37)"
   ]
  },
  {
   "cell_type": "code",
   "execution_count": null,
   "metadata": {},
   "outputs": [],
   "source": [
    "for elemento in cluster_01.describe().mean():\n",
    "    print(elemento/24)"
   ]
  },
  {
   "cell_type": "markdown",
   "metadata": {},
   "source": [
    "Es así que puedo ver en base al análisis que cluster_0 contiene equipos que son ligeramente mejor que los de cluster_1, al igual que points_per_match y ranking son ligeramente diferentes entre ambos clusters. Quizás cluster_01 correspondiente a los outliers sea ligeramente peor en rendimiento que cluster_0 según points_per_match."
   ]
  },
  {
   "cell_type": "markdown",
   "metadata": {
    "id": "GMfYhvRrdEae"
   },
   "source": [
    "### 2.3 GMM (5 Pts.)"
   ]
  },
  {
   "cell_type": "markdown",
   "metadata": {
    "id": "KgW9Eqc7JDAo"
   },
   "source": [
    "#### 2.3.1 Explicación AIC (2 Pts.)"
   ]
  },
  {
   "cell_type": "markdown",
   "metadata": {
    "id": "zeBM39pcJDAo"
   },
   "source": [
    "Investigue sobre las métricas `AIC`, y conteste las siguientes preguntas:\n",
    "\n",
    "- ¿Qué es la métrica `AIC`?\n",
    "- ¿Qué penaliza esta métrica?\n",
    "- ¿Qué casos de usos tiene esta métrica?\n",
    "- Para el caso de GMM, ¿se busca maximizar o minimizar esta métrica? ¿Por qué?\n",
    "\n",
    "**❗IMPORTANTE❗** No utilices ChatGPT u otro modelo de lenguaje para responder esta pregunta. Será evaluado que cites al menos 1 recurso bibliográfico que hayas utilizado. Cualquier información que no tenga una referencia clara no se le dará puntaje."
   ]
  },
  {
   "cell_type": "markdown",
   "metadata": {
    "id": "IMW9mlEhJDAo"
   },
   "source": [
    "#### 2.3.2 Obtener AIC (1 Pts.)"
   ]
  },
  {
   "cell_type": "markdown",
   "metadata": {
    "id": "pLkPCEUtJDAo"
   },
   "source": [
    "Determine el número óptimo de componentes para el modelo Gaussian Mixture Model utilizando la métrica AIC. Considere un rango de número de componentes entre 1 y 40.\n",
    "\n",
    "Luego, grafique la curva entre número de componentes y la métrica AIC"
   ]
  },
  {
   "cell_type": "code",
   "execution_count": null,
   "metadata": {},
   "outputs": [],
   "source": []
  },
  {
   "cell_type": "markdown",
   "metadata": {
    "id": "l5mVn8FCJDAp"
   },
   "source": [
    "#### 2.3.3 Implementación GMM (2 Pts.)"
   ]
  },
  {
   "cell_type": "markdown",
   "metadata": {
    "id": "ZseyD6C6JDAp"
   },
   "source": [
    "Escoja el número de componentes que minimiza AIC para entrenar GMM. Una vez obtenidos los clusters realice el mismo análisis de la sección anterior:\n",
    "\n",
    "- ¿Existe alguna relación entre los clusters obtenidos y la posición que obtuvieron los equipos de ese cluster respectivo?\n",
    "- Describa cada cluster según la posición de los clubes dentro de los clusters y otras estadísticas presentes en el dataset.\n",
    "\n",
    "Finalmente, calcule *silhouette score* con los valores escogidos."
   ]
  },
  {
   "cell_type": "code",
   "execution_count": null,
   "metadata": {},
   "outputs": [],
   "source": []
  },
  {
   "cell_type": "markdown",
   "metadata": {
    "id": "-1wtuLDFdRBQ"
   },
   "source": [
    "## 3. Visualización (10 Pts.)"
   ]
  },
  {
   "cell_type": "markdown",
   "metadata": {
    "id": "OfPKrJ5rJDAq"
   },
   "source": [
    "En esta sección se espera que grafiques los datos coloreados según su cluster utilizando PCA, t-SNE y UMAP."
   ]
  },
  {
   "cell_type": "markdown",
   "metadata": {
    "id": "mcaY6GltdTko"
   },
   "source": [
    "### 3.1 PCA n=2 (3 Pts.)"
   ]
  },
  {
   "cell_type": "markdown",
   "metadata": {
    "id": "vwBsseMpJDAq"
   },
   "source": [
    "Realiza una gráfica de PCA con 2 componentes coloreando cada dato según su cluster para los resultados obtenidos con K-Means, DBSCAN y GMM."
   ]
  },
  {
   "cell_type": "code",
   "execution_count": null,
   "metadata": {},
   "outputs": [],
   "source": []
  },
  {
   "cell_type": "markdown",
   "metadata": {
    "id": "VFj9lZZndVnJ"
   },
   "source": [
    "### 3.2 t-SNE (2 Pts)"
   ]
  },
  {
   "cell_type": "markdown",
   "metadata": {
    "id": "9-rUoyvsJDAs"
   },
   "source": [
    "Realiza una gráfica de t-SNE con 2 componentes coloreando cada dato según su cluster para los resultados obtenidos con K-Means, DBSCAN y GMM."
   ]
  },
  {
   "cell_type": "code",
   "execution_count": null,
   "metadata": {},
   "outputs": [],
   "source": []
  },
  {
   "cell_type": "markdown",
   "metadata": {
    "id": "IRGM0rjxdYh0"
   },
   "source": [
    "### 3.3 UMAP (3 Pts.)"
   ]
  },
  {
   "cell_type": "markdown",
   "metadata": {
    "id": "h_VobWNWJDAu"
   },
   "source": [
    "Realiza una gráfica de UMAP con 2 componentes coloreando cada dato según su cluster para los resultados obtenidos con K-Means, DBSCAN y GMM."
   ]
  },
  {
   "cell_type": "code",
   "execution_count": null,
   "metadata": {},
   "outputs": [],
   "source": []
  },
  {
   "cell_type": "markdown",
   "metadata": {
    "id": "myEjout1dasK"
   },
   "source": [
    "### 3.4 Conclusiones (2 Pts.)"
   ]
  },
  {
   "cell_type": "markdown",
   "metadata": {
    "id": "ltDfc9u5JDAu"
   },
   "source": [
    "En base a lo observado en los gráficos obtenidos en la sección anterior conteste:\n",
    "\n",
    "- ¿Que método de reducción de dimensionalidad permite ver de mejor manera la agrupación de equipos?\n",
    "- ¿Observaste alguna relación entre los silhoutte score obtenidos y como se visualizaron los clusters en los gráficos anteriores? ¿Qué método de clusterización se comportó mejor al graficarlo?\n",
    "- ¿Existió algún cluster que se mantuvo entre las distintas técnicas de clusterización?"
   ]
  },
  {
   "cell_type": "markdown",
   "metadata": {
    "id": "20YPF483epYf"
   },
   "source": [
    "## 4. Redes Bayesianas (15 Pts.)"
   ]
  },
  {
   "cell_type": "markdown",
   "metadata": {
    "id": "4vlD2dshe7Dm"
   },
   "source": [
    "A continuación debes realizar un análisis de redes bayesianas sobre el dataset, con la finalidad de poder inferir la probabilidad de que un equipo pertenzca a cierto grupo o no, dadas las características que se presentan en el dataset."
   ]
  },
  {
   "cell_type": "markdown",
   "metadata": {
    "id": "KofpbGXZfAyZ"
   },
   "source": [
    "### 4.1 Explicación Teórica (5 Pts.)"
   ]
  },
  {
   "cell_type": "markdown",
   "metadata": {
    "id": "6m0_V6_CfFh8"
   },
   "source": [
    "Investiga sobre `Redes Bayesianas` y entrega una explicación de cómo funciona. `No es necesaria una explicación matemática`, el objetivo es que puedas tomar lo que aprendiste en clases o buscando en internet, y logres exponerlo de manera sintetizada para demostrar tu aprendizaje. Se espera que tu explicación contenga la respuesta a las siguientes preguntas:\n",
    "1. ¿Qué es?\n",
    "2. ¿Para qué sirve?\n",
    "3. ¿Cómo se construye?\n",
    "4. ¿Qué es un nodo y una arista en una red bayesiana?\n",
    "5. ¿Qué es un CPD?\n",
    "\n",
    "**❗IMPORTANTE❗** No utilices ChatGPT u otro modelo de lenguaje para responder esta pregunta. Será evaluado que cites al menos 1 recurso bibliográfico que hayas utilizado. Cualquier información que no tenga una referencia clara no se le dará puntaje."
   ]
  },
  {
   "cell_type": "markdown",
   "metadata": {
    "id": "sf5zL5uS8xwy"
   },
   "source": [
    "### 4.2 Aprender la estructura de la red bayesiana (3 Pts.)"
   ]
  },
  {
   "cell_type": "markdown",
   "metadata": {
    "id": "9sxJCX_d9OuK"
   },
   "source": [
    "Del DataFrame original, elimine la columna `team`.\n",
    "Luego, utilice la librería pgmpy en Python para aplicar el algoritmo Hill Climb Search con el criterio de puntuación BDs y encontrar la estructura óptima de una red bayesiana. Puedes guiarte de las actividades vistas en clases.\n",
    "\n",
    "(Sugerencia: la clase `BDs` se importa de forma simiar a `BIC`, es decir, `from pgmpy.estimators import BDs`)"
   ]
  },
  {
   "cell_type": "code",
   "execution_count": null,
   "metadata": {},
   "outputs": [],
   "source": []
  },
  {
   "cell_type": "markdown",
   "metadata": {
    "id": "u8rQoYNUF0N1"
   },
   "source": [
    "### 4.3 Encontrar la estructura óptima (2 Pts.)"
   ]
  },
  {
   "cell_type": "markdown",
   "metadata": {
    "id": "IjD8M2SHGEF1"
   },
   "source": [
    "En esta sección, debes entrenar la red bayesiana con los datos de entrenamiento usando la estructura óptima encontrada en la sección anterior, ajustando los parámetros usando priors de Dirichlet con cuentas uniformes. Luego, debes imprimir las probabilidades condicionales de la red bayesiana."
   ]
  },
  {
   "cell_type": "code",
   "execution_count": null,
   "metadata": {},
   "outputs": [],
   "source": []
  },
  {
   "cell_type": "markdown",
   "metadata": {
    "id": "xj6IlwJmGKgQ"
   },
   "source": [
    "### 4.4 Inferencia sobre los datos (5 Pts.)"
   ]
  },
  {
   "cell_type": "markdown",
   "metadata": {
    "id": "NFDxBuD9GPda"
   },
   "source": [
    "Finalmente, debes realizar inferencia sobre la red bayesiana. Para esto, se te pide que calcules la probabilidad de que un equipo pertenezca al grupo `groups` dadas las siguientes características\n",
    "\n",
    "- Equipo 1: 'fouls_committed': 706, 'duels_won': 433\n",
    "- Equipo 2: 'total_shots': 439, 'total_passes': 15919\n",
    "- Equipo 3: 'goals': 80, 'goals_against': 51, 'onTarget': 137\n",
    "\n",
    "¿Que limitaciones cree que tiene este modelo para el problema?"
   ]
  },
  {
   "cell_type": "code",
   "execution_count": null,
   "metadata": {},
   "outputs": [],
   "source": []
  },
  {
   "cell_type": "markdown",
   "metadata": {
    "id": "hAe3YS1EdfIP"
   },
   "source": [
    "## 5. Asociaciones (15 Pts.)"
   ]
  },
  {
   "cell_type": "markdown",
   "metadata": {
    "id": "waotTcAXJDAu"
   },
   "source": [
    "Debido a tu gran desempeño en tu labor anterior detectando los distintos tipos de equipos en las 5 grandes ligas de fútbol, el empresario multimillonario te quiere encargar una nueva misión. Se ha enterado que el último campéon de la Eurocopa ha sido España, por lo que quiere fichar jugadores de esta selección que se relacionen bien entre ellos para poder ficharlos. Para conseguir lo anterior, te ha entregado un dataset con las secuencias de pases de los jugadores de la Selección Española durante sus partidos en la Eurocopa 2024 y tu labor será encontrar los jugadores que mejor se asocian.\n",
    "\n",
    "Una secuencia de pases se entiende como todos los jugadores que se dieron pases entre ellos antes de que el equipo haya perdido el balón o el juego se haya detenido por algún motivo. El dataset contiene lineas con los nombres de los jugadores que participaron en una secuencia de pases separados por ;."
   ]
  },
  {
   "cell_type": "markdown",
   "metadata": {
    "id": "Pboh0vKKeKJN"
   },
   "source": [
    "### 5.1 Cargar Datos (2 Pts.)"
   ]
  },
  {
   "cell_type": "markdown",
   "metadata": {
    "id": "ppslQtuNJDAv"
   },
   "source": [
    "Carga el dataset `passes.csv` y dejando los datos como una lista de listas."
   ]
  },
  {
   "cell_type": "code",
   "execution_count": null,
   "metadata": {},
   "outputs": [],
   "source": []
  },
  {
   "cell_type": "markdown",
   "metadata": {
    "id": "IM_7Ayt0ebMc"
   },
   "source": [
    "### 5.2 Mostrar frecuencia (3 Pts.)"
   ]
  },
  {
   "cell_type": "markdown",
   "metadata": {
    "id": "Rztxe6KQJDAv"
   },
   "source": [
    "A continuación debes mostrar la frecuencia de participación de los jugadores en las secuencias de pases ordenadas de manera descendente."
   ]
  },
  {
   "cell_type": "code",
   "execution_count": null,
   "metadata": {},
   "outputs": [],
   "source": []
  },
  {
   "cell_type": "markdown",
   "metadata": {
    "id": "E9PDFDDGegWN"
   },
   "source": [
    "### 5.3 Transformar datos (3 Pts)"
   ]
  },
  {
   "cell_type": "markdown",
   "metadata": {
    "id": "Dis4YDkAJDAv"
   },
   "source": [
    "Utiliza `TransactionEncoder()` para codificar las secuencias de pases en vectores."
   ]
  },
  {
   "cell_type": "code",
   "execution_count": null,
   "metadata": {},
   "outputs": [],
   "source": []
  },
  {
   "cell_type": "markdown",
   "metadata": {
    "id": "RcbmgcpvejEb"
   },
   "source": [
    "### 5.4 Matriz de co-ocurrencia (2 Pts.)"
   ]
  },
  {
   "cell_type": "markdown",
   "metadata": {
    "id": "HvBok9-pJDAw"
   },
   "source": [
    "Genera la matriz de co-ocurrencia para observar con qué frecuencia los jugadores participan entre sí en las secuencias de pases. En base a la matriz contesta las siguientes preguntas:\n",
    "\n",
    "- ¿Qué jugadores se observa que estan relacionados?\n",
    "- Revisando las formaciones de España durante la Eurocopa, ¿se observa alguna relación entre las posiciones en el campo y los jugadores con mayor relación entre ellos?\n",
    "\n",
    "[España v/s Croacia](https://www.sofascore.com/football/match/croatia-spain/YTbspUb#id:11873907)\n",
    "\n",
    "[España v/s Italia](https://www.sofascore.com/football/match/italy-spain/YTbshUb#id:11873901)\n",
    "\n",
    "[España v/s Albania](https://www.sofascore.com/football/match/spain-albania/PTbsYTb#id:11873904)\n",
    "\n",
    "[España v/s Georgia](https://www.sofascore.com/football/match/georgia-spain/YTbsnVb#id:11874031)\n",
    "\n",
    "[España v/s Alemania](https://www.sofascore.com/football/match/germany-spain/YTbslUb#id:11874027)\n",
    "\n",
    "[España v/s Francia](https://www.sofascore.com/football/match/germany-spain/YTbslUb#id:11874027)\n",
    "\n",
    "[España v/s Inglaterra](https://www.sofascore.com/football/match/england-spain/YTbsnUb#id:11874023)"
   ]
  },
  {
   "cell_type": "code",
   "execution_count": null,
   "metadata": {},
   "outputs": [],
   "source": []
  },
  {
   "cell_type": "markdown",
   "metadata": {
    "id": "1Wl4YqspepiE"
   },
   "source": [
    "### 5.5 Algoritmo a-priori (5 Pts.)"
   ]
  },
  {
   "cell_type": "markdown",
   "metadata": {
    "id": "wKO_XxWxJDAx"
   },
   "source": [
    "Aplica el algoritmo Apriori con min_support=0.1 y analiza los resultados obtenidos."
   ]
  },
  {
   "cell_type": "code",
   "execution_count": null,
   "metadata": {},
   "outputs": [],
   "source": []
  },
  {
   "cell_type": "markdown",
   "metadata": {
    "id": "jJKZymCQJDAx"
   },
   "source": [
    "A continuación, genera las reglas de asociación utilizando association_rules, con un umbral min_threshold=0.3, y en base a los resultados obtenidos conteste las siguientes preguntas:\n",
    "\n",
    "- ¿Qué par de jugadores recomendaría que se ficharan juntos?\n",
    "- ¿Crees que este método es suficiente para recomendar fichaje de jugadores? ¿Por qué?"
   ]
  },
  {
   "cell_type": "code",
   "execution_count": null,
   "metadata": {
    "id": "gGowWZ6uJDAx"
   },
   "outputs": [],
   "source": []
  }
 ],
 "metadata": {
  "colab": {
   "provenance": []
  },
  "kernelspec": {
   "display_name": "Python 3 (ipykernel)",
   "language": "python",
   "name": "python3"
  },
  "language_info": {
   "codemirror_mode": {
    "name": "ipython",
    "version": 3
   },
   "file_extension": ".py",
   "mimetype": "text/x-python",
   "name": "python",
   "nbconvert_exporter": "python",
   "pygments_lexer": "ipython3",
   "version": "3.12.8"
  },
  "widgets": {
   "application/vnd.jupyter.widget-state+json": {
    "19876e57b8fa4e888ecc8038d1b46e12": {
     "model_module": "@jupyter-widgets/base",
     "model_module_version": "1.2.0",
     "model_name": "LayoutModel",
     "state": {
      "_model_module": "@jupyter-widgets/base",
      "_model_module_version": "1.2.0",
      "_model_name": "LayoutModel",
      "_view_count": null,
      "_view_module": "@jupyter-widgets/base",
      "_view_module_version": "1.2.0",
      "_view_name": "LayoutView",
      "align_content": null,
      "align_items": null,
      "align_self": null,
      "border": null,
      "bottom": null,
      "display": null,
      "flex": null,
      "flex_flow": null,
      "grid_area": null,
      "grid_auto_columns": null,
      "grid_auto_flow": null,
      "grid_auto_rows": null,
      "grid_column": null,
      "grid_gap": null,
      "grid_row": null,
      "grid_template_areas": null,
      "grid_template_columns": null,
      "grid_template_rows": null,
      "height": null,
      "justify_content": null,
      "justify_items": null,
      "left": null,
      "margin": null,
      "max_height": null,
      "max_width": null,
      "min_height": null,
      "min_width": null,
      "object_fit": null,
      "object_position": null,
      "order": null,
      "overflow": null,
      "overflow_x": null,
      "overflow_y": null,
      "padding": null,
      "right": null,
      "top": null,
      "visibility": null,
      "width": null
     }
    },
    "1d0acb1324a44ed5aac9f6049f077a8e": {
     "model_module": "@jupyter-widgets/controls",
     "model_module_version": "1.5.0",
     "model_name": "HBoxModel",
     "state": {
      "_dom_classes": [],
      "_model_module": "@jupyter-widgets/controls",
      "_model_module_version": "1.5.0",
      "_model_name": "HBoxModel",
      "_view_count": null,
      "_view_module": "@jupyter-widgets/controls",
      "_view_module_version": "1.5.0",
      "_view_name": "HBoxView",
      "box_style": "",
      "children": [
       "IPY_MODEL_5d55da6932e843e684f92c165bcf4e7c",
       "IPY_MODEL_584a5bff51ee4b12a047e044b3742804",
       "IPY_MODEL_fde4e7cfeb6847e1a0ea29d3914f2d4e"
      ],
      "layout": "IPY_MODEL_fc707c51115546a18c522a35ce2c2c4d"
     }
    },
    "3f11e148b9764bca822dc9d7cba4aab9": {
     "model_module": "@jupyter-widgets/controls",
     "model_module_version": "1.5.0",
     "model_name": "DescriptionStyleModel",
     "state": {
      "_model_module": "@jupyter-widgets/controls",
      "_model_module_version": "1.5.0",
      "_model_name": "DescriptionStyleModel",
      "_view_count": null,
      "_view_module": "@jupyter-widgets/base",
      "_view_module_version": "1.2.0",
      "_view_name": "StyleView",
      "description_width": ""
     }
    },
    "584a5bff51ee4b12a047e044b3742804": {
     "model_module": "@jupyter-widgets/controls",
     "model_module_version": "1.5.0",
     "model_name": "FloatProgressModel",
     "state": {
      "_dom_classes": [],
      "_model_module": "@jupyter-widgets/controls",
      "_model_module_version": "1.5.0",
      "_model_name": "FloatProgressModel",
      "_view_count": null,
      "_view_module": "@jupyter-widgets/controls",
      "_view_module_version": "1.5.0",
      "_view_name": "ProgressView",
      "bar_style": "danger",
      "description": "",
      "description_tooltip": null,
      "layout": "IPY_MODEL_19876e57b8fa4e888ecc8038d1b46e12",
      "max": 1000000,
      "min": 0,
      "orientation": "horizontal",
      "style": "IPY_MODEL_b38bfc71aac2433fb8d1e1969d69bee2",
      "value": 25
     }
    },
    "5d55da6932e843e684f92c165bcf4e7c": {
     "model_module": "@jupyter-widgets/controls",
     "model_module_version": "1.5.0",
     "model_name": "HTMLModel",
     "state": {
      "_dom_classes": [],
      "_model_module": "@jupyter-widgets/controls",
      "_model_module_version": "1.5.0",
      "_model_name": "HTMLModel",
      "_view_count": null,
      "_view_module": "@jupyter-widgets/controls",
      "_view_module_version": "1.5.0",
      "_view_name": "HTMLView",
      "description": "",
      "description_tooltip": null,
      "layout": "IPY_MODEL_97d8893e0e26457a88cfaee8de13d918",
      "placeholder": "​",
      "style": "IPY_MODEL_3f11e148b9764bca822dc9d7cba4aab9",
      "value": "  0%"
     }
    },
    "68e431e82e7d4f22a727023597227ab8": {
     "model_module": "@jupyter-widgets/controls",
     "model_module_version": "1.5.0",
     "model_name": "DescriptionStyleModel",
     "state": {
      "_model_module": "@jupyter-widgets/controls",
      "_model_module_version": "1.5.0",
      "_model_name": "DescriptionStyleModel",
      "_view_count": null,
      "_view_module": "@jupyter-widgets/base",
      "_view_module_version": "1.2.0",
      "_view_name": "StyleView",
      "description_width": ""
     }
    },
    "97d8893e0e26457a88cfaee8de13d918": {
     "model_module": "@jupyter-widgets/base",
     "model_module_version": "1.2.0",
     "model_name": "LayoutModel",
     "state": {
      "_model_module": "@jupyter-widgets/base",
      "_model_module_version": "1.2.0",
      "_model_name": "LayoutModel",
      "_view_count": null,
      "_view_module": "@jupyter-widgets/base",
      "_view_module_version": "1.2.0",
      "_view_name": "LayoutView",
      "align_content": null,
      "align_items": null,
      "align_self": null,
      "border": null,
      "bottom": null,
      "display": null,
      "flex": null,
      "flex_flow": null,
      "grid_area": null,
      "grid_auto_columns": null,
      "grid_auto_flow": null,
      "grid_auto_rows": null,
      "grid_column": null,
      "grid_gap": null,
      "grid_row": null,
      "grid_template_areas": null,
      "grid_template_columns": null,
      "grid_template_rows": null,
      "height": null,
      "justify_content": null,
      "justify_items": null,
      "left": null,
      "margin": null,
      "max_height": null,
      "max_width": null,
      "min_height": null,
      "min_width": null,
      "object_fit": null,
      "object_position": null,
      "order": null,
      "overflow": null,
      "overflow_x": null,
      "overflow_y": null,
      "padding": null,
      "right": null,
      "top": null,
      "visibility": null,
      "width": null
     }
    },
    "a4c70b26ce954963a1fa673d745d5e56": {
     "model_module": "@jupyter-widgets/base",
     "model_module_version": "1.2.0",
     "model_name": "LayoutModel",
     "state": {
      "_model_module": "@jupyter-widgets/base",
      "_model_module_version": "1.2.0",
      "_model_name": "LayoutModel",
      "_view_count": null,
      "_view_module": "@jupyter-widgets/base",
      "_view_module_version": "1.2.0",
      "_view_name": "LayoutView",
      "align_content": null,
      "align_items": null,
      "align_self": null,
      "border": null,
      "bottom": null,
      "display": null,
      "flex": null,
      "flex_flow": null,
      "grid_area": null,
      "grid_auto_columns": null,
      "grid_auto_flow": null,
      "grid_auto_rows": null,
      "grid_column": null,
      "grid_gap": null,
      "grid_row": null,
      "grid_template_areas": null,
      "grid_template_columns": null,
      "grid_template_rows": null,
      "height": null,
      "justify_content": null,
      "justify_items": null,
      "left": null,
      "margin": null,
      "max_height": null,
      "max_width": null,
      "min_height": null,
      "min_width": null,
      "object_fit": null,
      "object_position": null,
      "order": null,
      "overflow": null,
      "overflow_x": null,
      "overflow_y": null,
      "padding": null,
      "right": null,
      "top": null,
      "visibility": null,
      "width": null
     }
    },
    "b38bfc71aac2433fb8d1e1969d69bee2": {
     "model_module": "@jupyter-widgets/controls",
     "model_module_version": "1.5.0",
     "model_name": "ProgressStyleModel",
     "state": {
      "_model_module": "@jupyter-widgets/controls",
      "_model_module_version": "1.5.0",
      "_model_name": "ProgressStyleModel",
      "_view_count": null,
      "_view_module": "@jupyter-widgets/base",
      "_view_module_version": "1.2.0",
      "_view_name": "StyleView",
      "bar_color": null,
      "description_width": ""
     }
    },
    "fc707c51115546a18c522a35ce2c2c4d": {
     "model_module": "@jupyter-widgets/base",
     "model_module_version": "1.2.0",
     "model_name": "LayoutModel",
     "state": {
      "_model_module": "@jupyter-widgets/base",
      "_model_module_version": "1.2.0",
      "_model_name": "LayoutModel",
      "_view_count": null,
      "_view_module": "@jupyter-widgets/base",
      "_view_module_version": "1.2.0",
      "_view_name": "LayoutView",
      "align_content": null,
      "align_items": null,
      "align_self": null,
      "border": null,
      "bottom": null,
      "display": null,
      "flex": null,
      "flex_flow": null,
      "grid_area": null,
      "grid_auto_columns": null,
      "grid_auto_flow": null,
      "grid_auto_rows": null,
      "grid_column": null,
      "grid_gap": null,
      "grid_row": null,
      "grid_template_areas": null,
      "grid_template_columns": null,
      "grid_template_rows": null,
      "height": null,
      "justify_content": null,
      "justify_items": null,
      "left": null,
      "margin": null,
      "max_height": null,
      "max_width": null,
      "min_height": null,
      "min_width": null,
      "object_fit": null,
      "object_position": null,
      "order": null,
      "overflow": null,
      "overflow_x": null,
      "overflow_y": null,
      "padding": null,
      "right": null,
      "top": null,
      "visibility": null,
      "width": null
     }
    },
    "fde4e7cfeb6847e1a0ea29d3914f2d4e": {
     "model_module": "@jupyter-widgets/controls",
     "model_module_version": "1.5.0",
     "model_name": "HTMLModel",
     "state": {
      "_dom_classes": [],
      "_model_module": "@jupyter-widgets/controls",
      "_model_module_version": "1.5.0",
      "_model_name": "HTMLModel",
      "_view_count": null,
      "_view_module": "@jupyter-widgets/controls",
      "_view_module_version": "1.5.0",
      "_view_name": "HTMLView",
      "description": "",
      "description_tooltip": null,
      "layout": "IPY_MODEL_a4c70b26ce954963a1fa673d745d5e56",
      "placeholder": "​",
      "style": "IPY_MODEL_68e431e82e7d4f22a727023597227ab8",
      "value": " 25/1000000 [00:08&lt;38:04:12,  7.30it/s]"
     }
    }
   }
  }
 },
 "nbformat": 4,
 "nbformat_minor": 4
}
